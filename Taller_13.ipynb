{
  "nbformat": 4,
  "nbformat_minor": 0,
  "metadata": {
    "colab": {
      "provenance": []
    },
    "kernelspec": {
      "name": "python3",
      "display_name": "Python 3"
    },
    "language_info": {
      "name": "python"
    }
  },
  "cells": [
    {
      "cell_type": "markdown",
      "source": [
        "## 1) Cree un programa que selecciones dos vectores de longitud n (dada por el usuario al principio) y halle su producto escalar."
      ],
      "metadata": {
        "id": "9573gUOMK-5x"
      }
    },
    {
      "cell_type": "code",
      "execution_count": 31,
      "metadata": {
        "colab": {
          "base_uri": "https://localhost:8080/"
        },
        "id": "5mz2fdBy-tPj",
        "outputId": "92147332-f16c-4a87-b7b9-0750b7de99fe"
      },
      "outputs": [
        {
          "name": "stdout",
          "output_type": "stream",
          "text": [
            "Ingrese longitud de los vectores: 3\n"
          ]
        }
      ],
      "source": [
        "#1\n",
        "a=[]\n",
        "b=[]\n",
        "ab=[]\n",
        "total=0\n",
        "n=int(input(\"Ingrese longitud de los vectores: \"))"
      ]
    },
    {
      "cell_type": "code",
      "source": [
        "i=0\n",
        "for i in range(n):\n",
        "  a.append(int(input(\"Ingrese valores en a: \")))\n",
        "\n",
        "print(\"\")\n",
        "\n",
        "for i in range(n):\n",
        "  b.append(int(input(\"Ingrese valores en b: \")))\n",
        "\n",
        "print(\"a =\",a)\n",
        "print(\"b =\",b)\n",
        "\n",
        "for i in range(n):\n",
        "  valor=int(a[i]*b[i])\n",
        "  ab.append(valor)\n",
        "  total=total+valor\n",
        "\n",
        "print(\"Producto escalar = \",total)\n",
        "a=[]\n",
        "b=[]\n",
        "ab=[]\n",
        "total=0\n",
        "valor=0"
      ],
      "metadata": {
        "colab": {
          "base_uri": "https://localhost:8080/"
        },
        "id": "XdaVqQwH-_YO",
        "outputId": "d96bfc6a-6b4c-4b8f-b1e4-58233703803a"
      },
      "execution_count": 33,
      "outputs": [
        {
          "output_type": "stream",
          "name": "stdout",
          "text": [
            "Ingrese valores en a: 1\n",
            "Ingrese valores en a: 3\n",
            "Ingrese valores en a: 7\n",
            "\n",
            "Ingrese valores en b: -1\n",
            "Ingrese valores en b: 0\n",
            "Ingrese valores en b: 1\n",
            "a = [1, 3, 7]\n",
            "b = [-1, 0, 1]\n",
            "Producto escalar =  6\n"
          ]
        }
      ]
    },
    {
      "cell_type": "markdown",
      "source": [
        "##2) Cree un programa que solicite dos matrices A y B (las dimensiones de cada matriz deben ser indicadas por el usuario) y, de ser posible, realice las siguientes operaciones:\n",
        "a) 3A\n",
        "b) 4B\n",
        "c) A + B\n",
        "d) B × A"
      ],
      "metadata": {
        "id": "TfxSmaYfLENA"
      }
    },
    {
      "cell_type": "code",
      "source": [
        "#2\n",
        "A=[]\n",
        "B=[]\n",
        "c=[]\n",
        "d=[]\n",
        "na=int(input(\"Ingrese número de columnas en A: \"))\n",
        "ma=int(input(\"Ingrese número de filas en A: \"))\n",
        "print(\"\")\n",
        "nb=int(input(\"Ingrese número de columnas en B: \"))\n",
        "mb=int(input(\"Ingrese número de filas en B: \"))"
      ],
      "metadata": {
        "colab": {
          "base_uri": "https://localhost:8080/"
        },
        "id": "w4izLRBHFZFa",
        "outputId": "af999ffd-7783-49da-de5b-be92bc0f6715"
      },
      "execution_count": 52,
      "outputs": [
        {
          "name": "stdout",
          "output_type": "stream",
          "text": [
            "Ingrese número de columnas en A: 2\n",
            "Ingrese número de filas en A: 2\n",
            "\n",
            "Ingrese número de columnas en B: 2\n",
            "Ingrese número de filas en B: 2\n"
          ]
        }
      ]
    },
    {
      "cell_type": "code",
      "source": [
        "A3=[]\n",
        "B4=[]\n",
        "ApB=[]\n",
        "BXA=0\n",
        "total=0\n",
        "\n",
        "for i in range(ma):\n",
        "    fila = []\n",
        "    for j in range(na):\n",
        "        valor = int(input(f\"Ingrese el valor de la posición ({i},{j}) de la matriz A: \"))\n",
        "        fila.append(valor)\n",
        "    A.append(fila)\n",
        "\n",
        "print(\"Matriz A:\")\n",
        "for fila in A:\n",
        "    print(fila)\n",
        "\n",
        "\n",
        "print(\"\")\n",
        "\n",
        "for i in range(mb):\n",
        "    fila = []\n",
        "    for j in range(nb):\n",
        "        valor = int(input(f\"Ingrese el valor de la posición ({i},{j}) de la matriz B: \"))\n",
        "        fila.append(valor)\n",
        "    B.append(fila)\n",
        "\n",
        "print(\"Matriz B:\")\n",
        "for fila in B:\n",
        "    print(fila)\n",
        "\n",
        "\n",
        "print(\"\")\n",
        "\n",
        "#---------------  3A\n",
        "for i in range(ma):\n",
        "    fila = []\n",
        "    for j in range(na):\n",
        "        valor = int((A[i][j])*3)\n",
        "        fila.append(valor)\n",
        "    A3.append(fila)\n",
        "\n",
        "print(\"Matriz 3A:\")\n",
        "for fila in A3:\n",
        "    print(fila)\n",
        "\n",
        "print(\"\")\n",
        "\n",
        "#-------------     4B\n",
        "for i in range(mb):\n",
        "    fila = []\n",
        "    for j in range(nb):\n",
        "        valor = int((B[i][j])*4)\n",
        "        fila.append(valor)\n",
        "    B4.append(fila)\n",
        "\n",
        "print(\"Matriz 4B:\")\n",
        "for fila in B4:\n",
        "    print(fila)\n",
        "\n",
        "print(\"\")\n",
        "\n",
        "#--------------  A+B\n",
        "if ma==mb and na==nb:\n",
        "  for i in range(ma):\n",
        "    fila = []\n",
        "    for j in range(na):\n",
        "        valor = int((A[i][j])+B[i][j])\n",
        "        fila.append(valor)\n",
        "    ApB.append(fila)\n",
        "  print(\"Matriz A+B:\")\n",
        "  for fila in ApB:\n",
        "      print(fila)\n",
        "\n",
        "else:\n",
        "  print(\"No se puede sumar.\")\n",
        "\n",
        "print(\"\")\n",
        "\n",
        "#----------  A X B\n",
        "\n",
        "if ma==nb:\n",
        "  for i in range(ma):\n",
        "    for j in range(na):\n",
        "        valor = int((A[i][j])*B[i][j])\n",
        "        total=total+valor\n",
        "  print(\"A X B = \",total)\n",
        "\n",
        "else:\n",
        "  print(\"No se puede realizar\")\n",
        "\n",
        "\n",
        "\n",
        "A=[]\n",
        "B=[]\n",
        "A3=[]\n",
        "B4=[]\n",
        "ApB=[]\n",
        "BXA=0\n",
        "total=0"
      ],
      "metadata": {
        "colab": {
          "base_uri": "https://localhost:8080/"
        },
        "id": "2s7YvsuqGWYy",
        "outputId": "93d42bb7-9bfd-45f8-aa14-2a9c88ce8131"
      },
      "execution_count": 59,
      "outputs": [
        {
          "output_type": "stream",
          "name": "stdout",
          "text": [
            "Ingrese el valor de la posición (0,0) de la matriz A: 1\n",
            "Ingrese el valor de la posición (0,1) de la matriz A: 2\n",
            "Ingrese el valor de la posición (1,0) de la matriz A: 3\n",
            "Ingrese el valor de la posición (1,1) de la matriz A: 4\n",
            "Matriz A:\n",
            "[1, 2]\n",
            "[3, 4]\n",
            "\n",
            "Ingrese el valor de la posición (0,0) de la matriz B: 5\n",
            "Ingrese el valor de la posición (0,1) de la matriz B: 6\n",
            "Ingrese el valor de la posición (1,0) de la matriz B: 7\n",
            "Ingrese el valor de la posición (1,1) de la matriz B: 8\n",
            "Matriz B:\n",
            "[5, 6]\n",
            "[7, 8]\n",
            "\n",
            "Matriz 3A:\n",
            "[3, 6]\n",
            "[9, 12]\n",
            "\n",
            "Matriz 4B:\n",
            "[20, 24]\n",
            "[28, 32]\n",
            "\n",
            "Matriz A+B:\n",
            "[6, 8]\n",
            "[10, 12]\n",
            "\n",
            "A X B =  70\n"
          ]
        }
      ]
    }
  ]
}