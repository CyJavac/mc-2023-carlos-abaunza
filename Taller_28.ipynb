{
  "nbformat": 4,
  "nbformat_minor": 0,
  "metadata": {
    "colab": {
      "provenance": []
    },
    "kernelspec": {
      "name": "python3",
      "display_name": "Python 3"
    },
    "language_info": {
      "name": "python"
    }
  },
  "cells": [
    {
      "cell_type": "markdown",
      "source": [
        "#Taller 28\n",
        "$n=8$\n",
        "\n",
        "$f(x) = x^2 - e^{-2x} - 3$\n",
        "\n",
        "$f'(x) = 2x + 2e^{-2x}  $\n",
        "\n",
        "$x_0 = 1.7$\n",
        "\n",
        "$\\epsilon_s = 1.7 * 10^{-8} * 100\\% $\n",
        "\n",
        "$\\epsilon_s = 0.000000017 ≈ 1.7*10^{-8}$"
      ],
      "metadata": {
        "id": "pKHJTR6rxltI"
      }
    },
    {
      "cell_type": "code",
      "execution_count": 20,
      "metadata": {
        "colab": {
          "base_uri": "https://localhost:8080/"
        },
        "id": "gdq-LnwWnmWN",
        "outputId": "525d056f-eaed-4768-d68d-65fca8cec01a"
      },
      "outputs": [
        {
          "output_type": "stream",
          "name": "stdout",
          "text": [
            "[1.7, 1.741356721153202, 1.740905471913367, 1.7409054179780619, 1.7409054179780612]\n",
            "[0.023749712308121323, 0.00025920375753602534, 3.0981180570762434e-08, 3.8263641889790964e-16]\n",
            "Rta: X_i=  1.7409054179780612 , E_a=  3.8263641889790964e-16\n"
          ]
        }
      ],
      "source": [
        "import numpy as np\n",
        "\n",
        "#x0=0.5\n",
        "#Es=5E-5\n",
        "x0=1.7\n",
        "Es=1.7E-8\n",
        "\n",
        "def funcion(x):\n",
        "  #return x - (np.exp(-x)-x)/(-np.exp(-x)-1)\n",
        "  return x - (x**2 - np.exp(-2*x) - 3)/(2*x + 2*np.exp(-2*x))\n",
        "\n",
        "def error(xa,xd):\n",
        "  return abs((xa-xd)/xd)*1\n",
        "\n",
        "\n",
        "xs=[x0,funcion(x0)]\n",
        "Eas=[error(xs[0],xs[1])]\n",
        "\n",
        "for i in range(1,6):\n",
        "  if Eas[-1]> Es:\n",
        "    xs.append(funcion(xs[i]))\n",
        "    Eas.append(error(xs[i],xs[i+1]))\n",
        "\n",
        "\n",
        "print(xs)\n",
        "print(Eas)\n",
        "\n",
        "print(\"Rta: X_i= \",xs[-1],\", E_a= \",Eas[-1])\n",
        "\n",
        "xs=[]\n",
        "Eas=[]"
      ]
    }
  ]
}