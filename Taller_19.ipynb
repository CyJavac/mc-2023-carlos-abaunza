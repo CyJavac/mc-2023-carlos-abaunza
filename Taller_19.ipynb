{
  "nbformat": 4,
  "nbformat_minor": 0,
  "metadata": {
    "colab": {
      "provenance": [],
      "collapsed_sections": [
        "jcszCyQVDmfj",
        "EbtmxXeREia4"
      ]
    },
    "kernelspec": {
      "name": "python3",
      "display_name": "Python 3"
    },
    "language_info": {
      "name": "python"
    }
  },
  "cells": [
    {
      "cell_type": "markdown",
      "source": [
        "#Notas"
      ],
      "metadata": {
        "id": "jcszCyQVDmfj"
      }
    },
    {
      "cell_type": "markdown",
      "source": [
        "##Desviación estándar\n",
        "###Que tanto se expanden los datos entre si\n",
        "\n",
        "\n",
        "$\\sigma=\\sqrt{\\frac{\\sum^N_{i=1}(x_1-\\bar{x})^2}{N}}$\n",
        "\n",
        "###ó\n",
        "\n",
        "$\\sigma=\\sqrt{\\frac{\\sum^n_{i=1}(x_1-\\bar{x})^2}{n-1}}$\n"
      ],
      "metadata": {
        "id": "EbtmxXeREia4"
      }
    },
    {
      "cell_type": "markdown",
      "source": [
        "--------------"
      ],
      "metadata": {
        "id": "rHg_PBT-IKrt"
      }
    },
    {
      "cell_type": "markdown",
      "source": [
        "$S_t = \\sum(y_i-\\bar{y})^2$\n",
        "\n",
        "$S_y = \\sqrt{\\frac{S_t}{n-1}}$"
      ],
      "metadata": {
        "id": "AwXRw7F-Iray"
      }
    },
    {
      "cell_type": "markdown",
      "source": [
        "-----------\n",
        "###Suma de los cuadrados\n",
        "##**Lineal**\n",
        "$S_r = \\sum(y_i-a_0-a_1 x_i)^2$\n",
        "\n",
        "\n",
        "###El error estándar para la línea de regresión se determina como\n",
        "$S_\\frac{y}{x} = \\sqrt{\\frac{S_r}{n-2}}$\n",
        "\n",
        "###Si $S_\\frac{y}{x} < S_y $, se puede afirmar que el modelo de regresión lineal es adecuado.\n",
        "\n",
        "##**Exponenciales**\n",
        "$y=\\alpha e^{\\beta x} + E$\n",
        "\n",
        "$E=error$\n",
        "\n",
        "$\\sum E^2 =\\sum(y-\\alpha e^{\\beta x})^2 $\n",
        "\n",
        "$S_r = y-\\alpha e^{\\beta x}$\n"
      ],
      "metadata": {
        "id": "SVv3eGrKJR4j"
      }
    },
    {
      "cell_type": "markdown",
      "source": [
        "---------\n",
        "##Coeficiente de correlación ($r^2$)\n",
        "\n",
        "$r^2 = \\frac{S_t-S_r}{S_t} $\n",
        "\n",
        "$r = \\sqrt{\\frac{S_t-S_r}{S_t}}\\cdot 100\\% $\n",
        "\n",
        "\n"
      ],
      "metadata": {
        "id": "hip1rODrLb4g"
      }
    },
    {
      "cell_type": "markdown",
      "source": [
        "--------"
      ],
      "metadata": {
        "id": "J-j8yhf2H744"
      }
    },
    {
      "cell_type": "code",
      "source": [
        "#  σ  μ  α  β"
      ],
      "metadata": {
        "id": "crOseU_IG8dY"
      },
      "execution_count": null,
      "outputs": []
    },
    {
      "cell_type": "markdown",
      "source": [
        "##Ejemplo"
      ],
      "metadata": {
        "id": "TYe8vv7iRIF8"
      }
    },
    {
      "cell_type": "code",
      "source": [
        "x=[1,2,3,4,5,6,7]\n",
        "y=[0.5,2.5,2,4,3.5,6,5.5]"
      ],
      "metadata": {
        "id": "WHZvdIXeIeY6"
      },
      "execution_count": 30,
      "outputs": []
    },
    {
      "cell_type": "code",
      "execution_count": 31,
      "metadata": {
        "colab": {
          "base_uri": "https://localhost:8080/"
        },
        "outputId": "559cd9ce-49cd-4544-a38e-b72a439c9562",
        "id": "VUEuQsWpjyKL"
      },
      "outputs": [
        {
          "output_type": "stream",
          "name": "stdout",
          "text": [
            "n = 7\n",
            "\n",
            "Sumatoria x: 28\n",
            "Sumatoria y: 24.0\n",
            "Sumatoria xy: 119.5\n",
            "Sumatoria xx: 140\n",
            "\n",
            "Promedio x: 4.0\n",
            "Promedio y: 3.4285714285714284\n",
            "\n",
            "a1= 0.8392857142857143\n",
            "a0= 0.07142857142857117\n",
            "\n",
            "St= 22.714285714285715\n",
            "Sr= 2.991071428571428\n",
            "Sy= 1.9456912102680337\n",
            "Sy/x= 0.7734431367038469\n",
            "r= 93.18356132188194\n",
            "\n",
            "y= 0.8392857142857143 x + 0.07142857142857117\n"
          ]
        }
      ],
      "source": [
        "import numpy\n",
        "xy=[]\n",
        "xx=[]\n",
        "st=[]\n",
        "sr=[]\n",
        "n=len(x)\n",
        "\n",
        "#Sumatoria\n",
        "sx=0\n",
        "sy=0\n",
        "sxy=0\n",
        "sxx=0\n",
        "St=0\n",
        "Sr=0\n",
        "\n",
        "\n",
        "\n",
        "\n",
        "for i in range(n):\n",
        "  sx=sx+x[i]\n",
        "  sy=sy+y[i]\n",
        "\n",
        "  xy.append(x[i]*y[i])\n",
        "  xx.append(x[i]**2)\n",
        "\n",
        "\n",
        "  sxy=sxy+xy[i]\n",
        "  sxx=sxx+xx[i]\n",
        "\n",
        "  \n",
        "\n",
        "\n",
        "#Promedio\n",
        "px=sx/n\n",
        "py=sy/n\n",
        "\n",
        "\n",
        "print(\"n =\",n)\n",
        "print(\"\")\n",
        "print(\"Sumatoria x:\",sx)\n",
        "print(\"Sumatoria y:\",sy)\n",
        "print(\"Sumatoria xy:\",sxy)\n",
        "print(\"Sumatoria xx:\",sxx)\n",
        "print(\"\")\n",
        "\n",
        "\n",
        "print(\"Promedio x:\",px)\n",
        "print(\"Promedio y:\",py)\n",
        "print(\"\")\n",
        "\n",
        "a1=(n*sxy-sx*sy)/(n*sxx-(sx**2))\n",
        "a0=py-a1*px\n",
        "\n",
        "for i in range(n):\n",
        "  st.append((y[i]-py)**2)\n",
        "  sr.append((y[i]-a0-a1*x[i])**2)\n",
        "\n",
        "  St=St+st[i]\n",
        "  Sr=Sr+sr[i]\n",
        "\n",
        "\n",
        "\n",
        "#Raices\n",
        "Sy=numpy.sqrt(St/(n-1))\n",
        "Syx=numpy.sqrt(Sr/(n-2))\n",
        "r=numpy.sqrt(((St-Sr)/St))*100\n",
        "\n",
        "\n",
        "print(\"a1=\",a1)\n",
        "print(\"a0=\",a0)\n",
        "print(\"\")\n",
        "print(\"St=\",St)\n",
        "print(\"Sr=\",Sr)\n",
        "\n",
        "print(\"Sy=\",Sy)\n",
        "print(\"Sy/x=\",Syx)\n",
        "print(\"r=\",r)\n",
        "\n",
        "\n",
        "print(\"\")\n",
        "print(\"y=\",a1,\"x\",\"+\",a0,)\n",
        "\n"
      ]
    },
    {
      "cell_type": "code",
      "source": [
        "from matplotlib import pyplot\n",
        "\n",
        "#Función\n",
        "def fx(x,a1,a0):\n",
        "    return a1*x + a0\n",
        "# Valores de X que toma el gráfico.\n",
        "rango = range(-10, 15)\n",
        "\n",
        "#Grafica\n",
        "pyplot.plot(x,y, \"o\")\n",
        "pyplot.plot(rango, [fx(i,a1,a0) for i in rango])\n",
        "\n",
        "#Color de los ejes.\n",
        "pyplot.axhline(0, color=\"black\")\n",
        "pyplot.axvline(0, color=\"black\")\n",
        "\n",
        "#Limites de los ejes\n",
        "pyplot.xlim(-3, 10)\n",
        "pyplot.ylim(0, 10)\n",
        "\n",
        "pyplot.savefig(\"output.png\")\n",
        "\n",
        "pyplot.show()"
      ],
      "metadata": {
        "colab": {
          "base_uri": "https://localhost:8080/",
          "height": 435
        },
        "outputId": "e3561004-9bd3-4bf5-9846-aeed71471acc",
        "id": "_wRJOVbNj1RK"
      },
      "execution_count": 32,
      "outputs": [
        {
          "output_type": "display_data",
          "data": {
            "text/plain": [
              "<Figure size 640x480 with 1 Axes>"
            ],
            "image/png": "[encoded data removed]"
          },
          "metadata": {}
        }
      ]
    },
    {
      "cell_type": "markdown",
      "source": [
        "#Taller 19"
      ],
      "metadata": {
        "id": "i4BP53LkDpkS"
      }
    },
    {
      "cell_type": "code",
      "source": [
        "x=[1,2,3,4,5,6,7]\n",
        "y=[0.2,0.5,1.8,3.4,5.7,9,13.8]"
      ],
      "metadata": {
        "id": "L6yN8_7uVuTp"
      },
      "execution_count": 33,
      "outputs": []
    },
    {
      "cell_type": "code",
      "execution_count": 34,
      "metadata": {
        "colab": {
          "base_uri": "https://localhost:8080/"
        },
        "outputId": "b2252b06-9255-4e1c-a90c-16d996df5402",
        "id": "bro--tcZVuTp"
      },
      "outputs": [
        {
          "output_type": "stream",
          "name": "stdout",
          "text": [
            "n = 7\n",
            "\n",
            "Sumatoria x: 28\n",
            "Sumatoria y: 34.400000000000006\n",
            "Sumatoria xy: 199.3\n",
            "Sumatoria xx: 140\n",
            "\n",
            "Promedio x: 4.0\n",
            "Promedio y: 4.9142857142857155\n",
            "\n",
            "a1= 2.2035714285714283\n",
            "a0= -3.8999999999999977\n",
            "\n",
            "St= 149.96857142857147\n",
            "Sr= 14.008214285714303\n",
            "Sy= 4.999476163035674\n",
            "Sy/x= 1.6738108785471735\n",
            "r= 95.21514236883797\n",
            "\n",
            "y= 2.2035714285714283 x + -3.8999999999999977\n"
          ]
        }
      ],
      "source": [
        "import numpy\n",
        "xy=[]\n",
        "xx=[]\n",
        "st=[]\n",
        "sr=[]\n",
        "n=len(x)\n",
        "\n",
        "#Sumatoria\n",
        "sx=0\n",
        "sy=0\n",
        "sxy=0\n",
        "sxx=0\n",
        "St=0\n",
        "Sr=0\n",
        "\n",
        "\n",
        "for i in range(n):\n",
        "  sx=sx+x[i]\n",
        "  sy=sy+y[i]\n",
        "\n",
        "  xy.append(x[i]*y[i])\n",
        "  xx.append(x[i]**2)\n",
        "\n",
        "\n",
        "  sxy=sxy+xy[i]\n",
        "  sxx=sxx+xx[i]\n",
        "\n",
        "\n",
        "#Promedio\n",
        "px=sx/n\n",
        "py=sy/n\n",
        "\n",
        "\n",
        "print(\"n =\",n)\n",
        "print(\"\")\n",
        "print(\"Sumatoria x:\",sx)\n",
        "print(\"Sumatoria y:\",sy)\n",
        "print(\"Sumatoria xy:\",sxy)\n",
        "print(\"Sumatoria xx:\",sxx)\n",
        "print(\"\")\n",
        "\n",
        "\n",
        "print(\"Promedio x:\",px)\n",
        "print(\"Promedio y:\",py)\n",
        "print(\"\")\n",
        "\n",
        "a1=(n*sxy-sx*sy)/(n*sxx-(sx**2))\n",
        "a0=py-a1*px\n",
        "\n",
        "for i in range(n):\n",
        "  st.append((y[i]-py)**2)\n",
        "  sr.append((y[i]-a0-a1*x[i])**2)\n",
        "\n",
        "  St=St+st[i]\n",
        "  Sr=Sr+sr[i]\n",
        "\n",
        "\n",
        "\n",
        "#Raices\n",
        "Sy=numpy.sqrt(St/(n-1))\n",
        "Syx=numpy.sqrt(Sr/(n-2))\n",
        "r=numpy.sqrt(((St-Sr)/St))*100\n",
        "\n",
        "\n",
        "print(\"a1=\",a1)\n",
        "print(\"a0=\",a0)\n",
        "print(\"\")\n",
        "print(\"St=\",St)\n",
        "print(\"Sr=\",Sr)\n",
        "\n",
        "print(\"Sy=\",Sy)\n",
        "print(\"Sy/x=\",Syx)\n",
        "print(\"r=\",r)\n",
        "\n",
        "\n",
        "print(\"\")\n",
        "print(\"y=\",a1,\"x\",\"+\",a0,)\n",
        "\n"
      ]
    },
    {
      "cell_type": "code",
      "source": [
        "from matplotlib import pyplot\n",
        "\n",
        "#Función\n",
        "def fx(x,a1,a0):\n",
        "    return a1*x + a0\n",
        "# Valores de X que toma el gráfico.\n",
        "rango = range(-10, 15)\n",
        "\n",
        "#Grafica\n",
        "pyplot.plot(x,y, \"o\")\n",
        "pyplot.plot(rango, [fx(i,a1,a0) for i in rango])\n",
        "\n",
        "#Color de los ejes.\n",
        "pyplot.axhline(0, color=\"black\")\n",
        "pyplot.axvline(0, color=\"black\")\n",
        "\n",
        "#Limites de los ejes\n",
        "pyplot.xlim(-3, 10)\n",
        "pyplot.ylim(0, 10)\n",
        "\n",
        "pyplot.savefig(\"output.png\")\n",
        "\n",
        "pyplot.show()"
      ],
      "metadata": {
        "colab": {
          "base_uri": "https://localhost:8080/",
          "height": 435
        },
        "outputId": "c949f5e2-0c7c-40f0-b548-b45c585f3400",
        "id": "OCGkorPgVuTp"
      },
      "execution_count": 35,
      "outputs": [
        {
          "output_type": "display_data",
          "data": {
            "text/plain": [
              "<Figure size 640x480 with 1 Axes>"
            ],
            "image/png": "[encoded data removed]"
          },
          "metadata": {}
        }
      ]
    }
  ]
}