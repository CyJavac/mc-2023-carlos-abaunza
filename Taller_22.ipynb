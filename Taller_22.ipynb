{
  "nbformat": 4,
  "nbformat_minor": 0,
  "metadata": {
    "colab": {
      "provenance": []
    },
    "kernelspec": {
      "name": "python3",
      "display_name": "Python 3"
    },
    "language_info": {
      "name": "python"
    }
  },
  "cells": [
    {
      "cell_type": "markdown",
      "source": [
        "#Fuciones"
      ],
      "metadata": {
        "id": "i5HWTFnexekm"
      }
    },
    {
      "cell_type": "code",
      "source": [
        "def f1x(x,x0,x1,f0,f1):\n",
        "  n0=x-x1\n",
        "  d0=x0-x1\n",
        "\n",
        "  n1=x-x0\n",
        "  d1=x1-x0\n",
        "\n",
        "  return (n0/d0)*f0 + (n1/d1)*f1\n",
        "\n",
        "def f2x(x,x0,x1,x2,f0,f1,f2):\n",
        "  n0=(x-x1)*(x-x2)\n",
        "  d0=(x0-x1)*(x0-x2)\n",
        "  \n",
        "  n1=(x-x0)*(x-x2)\n",
        "  d1=(x1-x0)*(x1-x2)\n",
        "\n",
        "  n2=(x-x0)*(x-x1)\n",
        "  d2=(x2-x0)*(x2-x1)\n",
        "\n",
        "  return (n0/d0)*f0 + (n1/d1)*f1 + (n2/d2)*f2\n",
        "\n",
        "def f3x(x,x0,x1,x2,x3,f0,f1,f2,f3):\n",
        "  n0=(x-x1)*(x-x2)*(x-x3)\n",
        "  d0=(x0-x1)*(x0-x2)*(x0-x3)\n",
        "  \n",
        "  n1=(x-x0)*(x-x2)*(x-x3)\n",
        "  d1=(x1-x0)*(x1-x2)*(x1-x3)\n",
        "\n",
        "  n2=(x-x0)*(x-x1)*(x-x3)\n",
        "  d2=(x2-x0)*(x2-x1)*(x2-x3)\n",
        "\n",
        "  n3=(x-x0)*(x-x1)*(x-x2)\n",
        "  d3=(x3-x0)*(x3-x1)*(x3-x2)\n",
        "\n",
        "  return (n0/d0)*f0 + (n1/d1)*f1 + (n2/d2)*f2 + (n3/d3)*f3"
      ],
      "metadata": {
        "id": "H3CyauCSxdaO"
      },
      "execution_count": null,
      "outputs": []
    },
    {
      "cell_type": "markdown",
      "source": [
        "#Ejemplo"
      ],
      "metadata": {
        "id": "dTzgZnxyxhW_"
      }
    },
    {
      "cell_type": "code",
      "source": [
        "x=[0,1,2,3]\n",
        "y=[4,5,2,1]\n",
        "i=1\n",
        "j=1.5"
      ],
      "metadata": {
        "id": "BKBGPOLFw_GO"
      },
      "execution_count": null,
      "outputs": []
    },
    {
      "cell_type": "code",
      "execution_count": null,
      "metadata": {
        "colab": {
          "base_uri": "https://localhost:8080/"
        },
        "outputId": "27a24a26-d6cc-47fe-d1f3-cc41babddd0a",
        "id": "pTr_IBOhxYGX"
      },
      "outputs": [
        {
          "output_type": "stream",
          "name": "stdout",
          "text": [
            "f1(1.5) =  3.5\n",
            "\n",
            "f2(1.5) =  4.0\n",
            "\n",
            "f3(1.5) =  3.625\n"
          ]
        }
      ],
      "source": [
        "print(\"f1(1.5) = \",f1x(j,x[0+i],x[1+i],y[0+i],y[1+i]))\n",
        "print(\"\")\n",
        "print(\"f2(1.5) = \",f2x(j,x[0],x[1],x[2],y[0],y[1],y[2]))\n",
        "print(\"\")\n",
        "print(\"f3(1.5) = \",f3x(j,x[0],x[1],x[2],x[3],y[0],y[1],y[2],y[3]))"
      ]
    },
    {
      "cell_type": "markdown",
      "source": [
        "#Taller 22"
      ],
      "metadata": {
        "id": "_GshcRWRxTS2"
      }
    },
    {
      "cell_type": "code",
      "source": [
        "x=[0,1,2,3,4]\n",
        "y=[1,0.2,2,4.2,5]\n",
        "i=1\n",
        "j=2.5"
      ],
      "metadata": {
        "id": "g9tNs4uUwvnv"
      },
      "execution_count": null,
      "outputs": []
    },
    {
      "cell_type": "code",
      "execution_count": null,
      "metadata": {
        "id": "JAZR6GvBckAa",
        "colab": {
          "base_uri": "https://localhost:8080/"
        },
        "outputId": "6dc408e8-adc4-407c-ef93-f0f51b3c01db"
      },
      "outputs": [
        {
          "output_type": "stream",
          "name": "stdout",
          "text": [
            "f1(2.5) =  2.9\n",
            "\n",
            "f2(2.5) =  3.0500000000000003\n",
            "\n",
            "f3(2.5) =  3.1625000000000005\n"
          ]
        }
      ],
      "source": [
        "print(\"f1(2.5) = \",f1x(j,x[0+i],x[1+i],y[0+i],y[1+i]))\n",
        "print(\"\")\n",
        "print(\"f2(2.5) = \",f2x(j,x[0+i],x[1+i],x[2+i],y[0+i],y[1+i],y[2+i]))\n",
        "print(\"\")\n",
        "print(\"f3(2.5) = \",f3x(j,x[0+i],x[1+i],x[2+i],x[3+i],y[0+i],y[1+i],y[2+i],y[3+i]))"
      ]
    },
    {
      "cell_type": "code",
      "source": [],
      "metadata": {
        "id": "EqAc6SITyF6h"
      },
      "execution_count": null,
      "outputs": []
    }
  ]
}