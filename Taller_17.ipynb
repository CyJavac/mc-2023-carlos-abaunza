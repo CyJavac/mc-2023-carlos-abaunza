{
  "nbformat": 4,
  "nbformat_minor": 0,
  "metadata": {
    "colab": {
      "provenance": []
    },
    "kernelspec": {
      "name": "python3",
      "display_name": "Python 3"
    },
    "language_info": {
      "name": "python"
    }
  },
  "cells": [
    {
      "cell_type": "markdown",
      "source": [
        "y=αe^βx\n",
        "\n",
        "ln(y)=ln(αe^βx)\n",
        "\n",
        "ln(y)=ln(α)+ln(e^βx)\n",
        "\n",
        "ln(y)=ln(α)+βx * *ln(e)*\n",
        "\n",
        "ln(y)=ln(α)+βx  ===   y = a_0 + a_1 * x\n",
        "\n",
        "y -> ln(y)\n",
        "\n",
        "x -> x\n",
        "\n",
        "ln(α) = a_0\n",
        "\n",
        "e^ln(α) = e^a_0\n",
        "\n",
        "α = e^a_0\n",
        "\n",
        "β = a_1"
      ],
      "metadata": {
        "id": "NTm35ELIEYoG"
      }
    },
    {
      "cell_type": "code",
      "execution_count": 39,
      "metadata": {
        "colab": {
          "base_uri": "https://localhost:8080/"
        },
        "id": "f9uMHCfvYchN",
        "outputId": "61af9ae8-f19e-40ae-f0ba-912fa87aec35"
      },
      "outputs": [
        {
          "output_type": "stream",
          "name": "stdout",
          "text": [
            "ln(y)= [0.7884573603642703, 1.0986122886681098, 1.5040773967762742, 1.791759469228055, 2.1400661634962708, 2.4849066497880004]\n",
            "n= 6\n",
            "Sumatoria x: 42\n",
            "Sumatoria y: 9.80787932832098\n",
            "Sumatoria xy: 80.54944544230177\n",
            "Sumatoria xx: 364\n",
            "Promedio x: 7.0\n",
            "Promedio y: 1.6346465547201634\n",
            "a1= 0.16991843062935594\n",
            "a0= 0.44521754031467187\n",
            "\n",
            "y= 0.16991843062935594 x + 0.44521754031467187\n",
            "y= 1.5608297022877422 e^ 0.16991843062935594 x\n"
          ]
        }
      ],
      "source": [
        "import numpy\n",
        "\n",
        "#x=[1,2,3,4,5]\n",
        "#y=[5,6.6,8.5,10.8,14.2]\n",
        "\n",
        "x=[2,4,6,8,10,12]\n",
        "y=[2.2,3,4.5,6,8.5,12]\n",
        "\n",
        "lny=[]\n",
        "\n",
        "xy=[]\n",
        "xx=[]\n",
        "n=len(x)\n",
        "\n",
        "\n",
        "for i in range(n):\n",
        "  lny.append(numpy.log(y[i]))\n",
        "\n",
        "print(\"ln(y)=\",lny)\n",
        "\n",
        "#Sumatoria\n",
        "sx=0\n",
        "slny=0\n",
        "sxy=0\n",
        "sxx=0\n",
        "\n",
        "for i in range(n):\n",
        "  sx=sx+x[i]\n",
        "  slny=slny+lny[i]\n",
        "\n",
        "  xy.append(x[i]*lny[i])\n",
        "  xx.append(x[i]**2)\n",
        "\n",
        "  sxy=sxy+xy[i]\n",
        "  sxx=sxx+xx[i]\n",
        "\n",
        "print(\"n=\",n)\n",
        "print(\"Sumatoria x:\",sx)\n",
        "print(\"Sumatoria y:\",slny)\n",
        "print(\"Sumatoria xy:\",sxy)\n",
        "print(\"Sumatoria xx:\",sxx)\n",
        "\n",
        "#Promedio\n",
        "px=sx/n\n",
        "py=slny/n\n",
        "\n",
        "print(\"Promedio x:\",px)\n",
        "print(\"Promedio y:\",py)\n",
        "\n",
        "\n",
        "a1=(n*sxy-sx*slny)/(n*sxx-(sx**2))\n",
        "a0=py-a1*px\n",
        "\n",
        "print(\"a1=\",a1)\n",
        "print(\"a0=\",a0)\n",
        "print(\"\")\n",
        "print(\"y=\",a1,\"x\",\"+\",a0,)\n",
        "\n",
        "#  α   β\n",
        "α=numpy.exp(a0)\n",
        "β=a1\n",
        "\n",
        "print(\"y=\",α,\"e^\",β,\"x\")\n"
      ]
    },
    {
      "cell_type": "code",
      "source": [
        "from matplotlib import pyplot\n",
        "\n",
        "#----Funciones---\n",
        "\n",
        "\"\"\"#--Lineal--\n",
        "def fx(x,a1,a0):\n",
        "  return a1*x + a0\n",
        "\"\"\"\n",
        "#---Exponencial---\n",
        "def fxln(x,a1,a0):\n",
        "  return a0*numpy.exp(a1*x)\n",
        "\n",
        "#Valores de X que toma el gráfico.\n",
        "rango = range(-10, 15)\n",
        "\n",
        "#------Grafica---------\n",
        "\n",
        "\"\"\"\n",
        "#---Lineal---\n",
        "\n",
        "pyplot.plot(x,lny, \"o\")\n",
        "pyplot.plot(rango, [fx(i,a1,a0) for i in rango])\n",
        "\n",
        "\"\"\"\n",
        "\n",
        "#---Exponencial---\n",
        "pyplot.plot(x,y, \"o\")\n",
        "pyplot.plot(rango, [fxln(i,β,α) for i in rango])\n",
        "\n",
        "#Color de los ejes.\n",
        "pyplot.axhline(0, color=\"black\")\n",
        "pyplot.axvline(0, color=\"black\")\n",
        "\n",
        "#Limites de los ejes\n",
        "pyplot.xlim(-3, 11)\n",
        "pyplot.ylim(-5, 15)\n",
        "\n",
        "pyplot.savefig(\"output.png\")\n",
        "\n",
        "pyplot.show()"
      ],
      "metadata": {
        "colab": {
          "base_uri": "https://localhost:8080/",
          "height": 435
        },
        "id": "ZxMa1Yp7gU0G",
        "outputId": "fbfa7934-4858-4fb5-8dd8-34b4591b5dd1"
      },
      "execution_count": 40,
      "outputs": [
        {
          "output_type": "display_data",
          "data": {
            "text/plain": [
              "<Figure size 640x480 with 1 Axes>"
            ],
            "image/png": "[encoded data removed]"
          },
          "metadata": {}
        }
      ]
    }
  ]
}