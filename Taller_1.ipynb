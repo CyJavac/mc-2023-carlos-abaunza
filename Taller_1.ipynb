{
  "nbformat": 4,
  "nbformat_minor": 0,
  "metadata": {
    "colab": {
      "provenance": []
    },
    "kernelspec": {
      "name": "python3",
      "display_name": "Python 3"
    },
    "language_info": {
      "name": "python"
    }
  },
  "cells": [
    {
      "cell_type": "code",
      "execution_count": 2,
      "metadata": {
        "colab": {
          "base_uri": "https://localhost:8080/"
        },
        "id": "KyHpsYuFLFvs",
        "outputId": "50a099fb-bdcf-4d5d-eb6d-689c176be774"
      },
      "outputs": [
        {
          "output_type": "stream",
          "name": "stdout",
          "text": [
            "Ingrese la cantidad de elementos en el primer conjunto 3\n",
            "Ingrese la cantidad de elementos en el segundo conjunto 3\n",
            "Ingrese los elementos del primer conjunto\n",
            "1\n",
            "2\n",
            "3\n",
            "Ingrese los elementos del segundo conjunto\n",
            "2\n",
            "3\n",
            "4\n",
            "A = [1.0, 2.0, 3.0]\n",
            "B = [2.0, 3.0, 4.0]\n",
            "Qué operación desea realizar?\n",
            " 1) Unión \n",
            " 2) Intersección \n",
            " 3) Diferencia \n",
            " 4) Diferencia simétrica\n",
            "1\n",
            "A ∪ B =  {1.0, 2.0, 3.0, 4.0}\n",
            "|A ∪ B| =  4\n"
          ]
        }
      ],
      "source": [
        "A=[]\n",
        "B=[]\n",
        "C=[]\n",
        "\n",
        "a=int(input(\"Ingrese la cantidad de elementos en el primer conjunto \"))\n",
        "b=int(input(\"Ingrese la cantidad de elementos en el segundo conjunto \"))\n",
        "i=0\n",
        "print(\"Ingrese los elementos del primer conjunto\")\n",
        "for i in range(a):\n",
        "    A.append(float(input()))\n",
        "\n",
        "print(\"Ingrese los elementos del segundo conjunto\")\n",
        "for i in range(b):\n",
        "    B.append(float(input()))\n",
        "\n",
        "print(\"A =\",A)\n",
        "print(\"B =\",B)\n",
        "\n",
        "print(\"Qué operación desea realizar?\\n 1) Unión \\n 2) Intersección \\n 3) Diferencia \\n 4) Diferencia simétrica\")\n",
        "c=int(input())\n",
        "\n",
        "\n",
        "if c>0 and c<5:\n",
        "    if c == 1:\n",
        "        Aa=set(A)\n",
        "        Bb=set(B)\n",
        "        C=Aa|Bb\n",
        "        print(\"A ∪ B = \",C)\n",
        "        print(\"|A ∪ B| = \",len(C))\n",
        "    elif c == 2:\n",
        "        Aa=set(A)\n",
        "        Bb=set(B)\n",
        "        C=Aa&Bb\n",
        "        print(\"A ∩ B = \",C)\n",
        "        print(\"|A ∩ B| = \",len(C))\n",
        "    elif c == 3:\n",
        "        Aa=set(A)\n",
        "        Bb=set(B)\n",
        "        C=Aa-Bb\n",
        "        print(\"A — B = \",C)\n",
        "        print(\"|A — B| = \",len(C))\n",
        "    elif c == 4:\n",
        "        Aa=set(A)\n",
        "        Bb=set(B)\n",
        "        C=Aa^Bb\n",
        "        print(\"A ⊕  B = \",C)\n",
        "        print(\"|A ⊕  B| = \",len(C))\n",
        "else:\n",
        "    print(\"Opción invalida\")\n",
        "    \n"
      ]
    }
  ]
}