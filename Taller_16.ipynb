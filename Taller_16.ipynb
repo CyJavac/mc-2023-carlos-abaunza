{
  "nbformat": 4,
  "nbformat_minor": 0,
  "metadata": {
    "colab": {
      "provenance": []
    },
    "kernelspec": {
      "name": "python3",
      "display_name": "Python 3"
    },
    "language_info": {
      "name": "python"
    }
  },
  "cells": [
    {
      "cell_type": "code",
      "execution_count": 1,
      "metadata": {
        "colab": {
          "base_uri": "https://localhost:8080/"
        },
        "id": "f9uMHCfvYchN",
        "outputId": "4acd0289-8bf8-4f9b-d93a-f93653de2697"
      },
      "outputs": [
        {
          "output_type": "stream",
          "name": "stdout",
          "text": [
            "n= 8\n",
            "Sumatoria x: 28\n",
            "Sumatoria y: 15.100000000000001\n",
            "Sumatoria xy: 35.6\n",
            "Sumatoria xx: 140\n",
            "Promedio x: 3.5\n",
            "Promedio y: 1.8875000000000002\n",
            "a1= -0.41071428571428586\n",
            "a0= 3.3250000000000006\n",
            "\n",
            "y= -0.41071428571428586 x + 3.3250000000000006\n"
          ]
        }
      ],
      "source": [
        "#x=[1,2,3,4,5,6,7]\n",
        "#y=[0.5,2.5,2,4,3.5,6,5.5]\n",
        "\n",
        "x=[0,1,2,3,4,5,6,7]\n",
        "y=[3.5,2.5,3,1.5,2,1.3,1,0.3]\n",
        "xy=[]\n",
        "xx=[]\n",
        "n=len(x)\n",
        "\n",
        "#Sumatoria\n",
        "sx=0\n",
        "sy=0\n",
        "sxy=0\n",
        "sxx=0\n",
        "\n",
        "for i in range(n):\n",
        "  sx=sx+x[i]\n",
        "  sy=sy+y[i]\n",
        "\n",
        "  xy.append(x[i]*y[i])\n",
        "  xx.append(x[i]**2)\n",
        "\n",
        "  sxy=sxy+xy[i]\n",
        "  sxx=sxx+xx[i]\n",
        "\n",
        "print(\"n=\",n)\n",
        "print(\"Sumatoria x:\",sx)\n",
        "print(\"Sumatoria y:\",sy)\n",
        "print(\"Sumatoria xy:\",sxy)\n",
        "print(\"Sumatoria xx:\",sxx)\n",
        "\n",
        "#Promedio\n",
        "px=sx/n\n",
        "py=sy/n\n",
        "\n",
        "print(\"Promedio x:\",px)\n",
        "print(\"Promedio y:\",py)\n",
        "\n",
        "\n",
        "a1=(n*sxy-sx*sy)/(n*sxx-(sx**2))\n",
        "a0=py-a1*px\n",
        "\n",
        "print(\"a1=\",a1)\n",
        "print(\"a0=\",a0)\n",
        "print(\"\")\n",
        "print(\"y=\",a1,\"x\",\"+\",a0,)\n",
        "\n"
      ]
    },
    {
      "cell_type": "code",
      "source": [
        "from matplotlib import pyplot\n",
        "\n",
        "#Función\n",
        "def fx(x,a1,a0):\n",
        "    return a1*x + a0\n",
        "# Valores de X que toma el gráfico.\n",
        "rango = range(-10, 15)\n",
        "\n",
        "#Grafica\n",
        "pyplot.plot(x,y, \"o\")\n",
        "pyplot.plot(rango, [fx(i,a1,a0) for i in rango])\n",
        "\n",
        "#Color de los ejes.\n",
        "pyplot.axhline(0, color=\"black\")\n",
        "pyplot.axvline(0, color=\"black\")\n",
        "\n",
        "#Limites de los ejes\n",
        "pyplot.xlim(-3, 11)\n",
        "pyplot.ylim(-5, 8)\n",
        "\n",
        "pyplot.savefig(\"output.png\")\n",
        "\n",
        "pyplot.show()"
      ],
      "metadata": {
        "colab": {
          "base_uri": "https://localhost:8080/",
          "height": 435
        },
        "id": "ZxMa1Yp7gU0G",
        "outputId": "a5a86262-d920-4866-9e3e-8df87a9e67b8"
      },
      "execution_count": 2,
      "outputs": [
        {
          "output_type": "display_data",
          "data": {
            "text/plain": [
              "<Figure size 640x480 with 1 Axes>"
            ],
            "image/png": "[encoded data removed]"
          },
          "metadata": {}
        }
      ]
    }
  ]
}