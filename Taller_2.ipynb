{
  "nbformat": 4,
  "nbformat_minor": 0,
  "metadata": {
    "colab": {
      "provenance": []
    },
    "kernelspec": {
      "name": "python3",
      "display_name": "Python 3"
    },
    "language_info": {
      "name": "python"
    }
  },
  "cells": [
    {
      "cell_type": "markdown",
      "source": [
        "###Cree un programa en el que cada operación sea una función, de acuerdo co las indicaciones dadas por el docente.\n"
      ],
      "metadata": {
        "id": "muG1F2HLrnYm"
      }
    },
    {
      "cell_type": "code",
      "execution_count": 17,
      "metadata": {
        "colab": {
          "base_uri": "https://localhost:8080/"
        },
        "id": "5JPe6RlRrlNP",
        "outputId": "c761eec1-cfbc-445e-9f97-356b1e4d8c9d"
      },
      "outputs": [
        {
          "output_type": "stream",
          "name": "stdout",
          "text": [
            "A = [6, 7, 8, 9, 10, 11, 12, 13, 14, 15, 16, 17, 18, 19, 20]\n",
            "B = [0, 2, 4, 6, 8, 10, 12, 14, 16, 18, 20, 22, 24]\n",
            "C = [1, 4, 8, 10, 12, 15, 18, 20]\n",
            "D = [2, 3, 5, 7, 11, 13, 17, 19, 23, 29, 31, 37, 41, 43]\n",
            "\n",
            "B∩(C⊕D) = {2, 4, 8, 10, 12, 18, 20}\n",
            "(A∩C)∪B = {0, 2, 4, 6, 8, 10, 12, 14, 15, 16, 18, 20, 22, 24}\n",
            "(B∪D)—C = {0, 2, 3, 5, 6, 7, 11, 13, 14, 16, 17, 19, 22, 23, 24, 29, 31, 37, 41, 43}\n",
            "(A—B)⊕(A∩D) = {9, 15}\n"
          ]
        }
      ],
      "source": [
        "A=[n+1 for n in range(5,20)]\n",
        "B=[n for n in range(0,25) if n%2==0]\n",
        "C=[1,4,8,10,12,15,18,20]\n",
        "D=[2,3,5,7,11,13,17,19,23,29,31,37,41,43]\n",
        "\n",
        "\n",
        "def union(a,b):\n",
        "  c=set(a)|set(b)\n",
        "  return c\n",
        "\n",
        "def interseccion(a,b):\n",
        "  c=set(a)&set(b)\n",
        "  return c\n",
        "\n",
        "def diferencia(a,b):\n",
        "  c=set(a)-set(b)\n",
        "  return c\n",
        "\n",
        "def difsimetrica(a,b):\n",
        "  c=set(a)^set(b)\n",
        "  return c\n",
        "\n",
        "print(\"A =\",A)\n",
        "print(\"B =\",B)\n",
        "print(\"C =\",C)\n",
        "print(\"D =\",D)\n",
        "\n",
        "# ∪\n",
        "# ∩\n",
        "# —\n",
        "# ⊕\n",
        "\n",
        "print(\"\")\n",
        "print(\"B∩(C⊕D) =\",interseccion(B,difsimetrica(C,D)))\n",
        "print(\"(A∩C)∪B =\",union(interseccion(A,C),B))\n",
        "print(\"(B∪D)—C =\",diferencia(union(B,D),C))\n",
        "print(\"(A—B)⊕(A∩D) =\",difsimetrica(diferencia(A,B),interseccion(A,D)))\n",
        "\n"
      ]
    }
  ]
}