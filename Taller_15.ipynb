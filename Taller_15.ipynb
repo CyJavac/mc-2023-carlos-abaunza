{
  "nbformat": 4,
  "nbformat_minor": 0,
  "metadata": {
    "colab": {
      "provenance": []
    },
    "kernelspec": {
      "name": "python3",
      "display_name": "Python 3"
    },
    "language_info": {
      "name": "python"
    }
  },
  "cells": [
    {
      "cell_type": "code",
      "source": [
        "import numpy\n",
        "\n",
        "\n",
        "def inv(matriz):\n",
        "  #Matriz identidad\n",
        "  tamano = numpy.shape(matriz)\n",
        "  n = tamano[0]\n",
        "  identidad = numpy.identity(n)\n",
        "\n",
        "  AB = numpy.concatenate((matriz,identidad),axis=1)\n",
        "  AB0 = numpy.copy(AB)\n",
        "\n",
        "  #Pivoteo\n",
        "  tamano = numpy.shape(AB)\n",
        "  n = tamano[0]\n",
        "  m = tamano[1]\n",
        "\n",
        "  #Para filas en AB\n",
        "  for i in range(0,n-1,1):\n",
        "      #Columna desde diagonal i en adelante\n",
        "      columna = abs(AB[i:,i])\n",
        "      dondemax = numpy.argmax(columna)\n",
        "      \n",
        "      # dondemax no está en diagonal\n",
        "      if (dondemax !=0):\n",
        "          #Intercambia filas\n",
        "          temporal = numpy.copy(AB[i,:])\n",
        "          AB[i,:] = AB[dondemax+i,:]\n",
        "          AB[dondemax+i,:] = temporal\n",
        "  AB1 = numpy.copy(AB)\n",
        "\n",
        "  # eliminacion hacia adelante\n",
        "  for i in range(0,n-1,1):\n",
        "      pivote = AB[i,i]\n",
        "      adelante = i+1\n",
        "      for k in range(adelante,n,1):\n",
        "          factor = AB[k,i]/pivote\n",
        "          AB[k,:] = AB[k,:] - AB[i,:]*factor\n",
        "  AB2 = numpy.copy(AB)\n",
        "\n",
        "  # elimina hacia atras\n",
        "  ultfila = n-1\n",
        "  ultcolumna = m-1\n",
        "  for i in range(ultfila,0-1,-1):\n",
        "      pivote = AB[i,i]\n",
        "      atras = i-1 \n",
        "      for k in range(atras,0-1,-1):\n",
        "          factor = AB[k,i]/pivote\n",
        "          AB[k,:] = AB[k,:] - AB[i,:]*factor\n",
        "      # diagonal a unos\n",
        "      AB[i,:] = AB[i,:]/AB[i,i]\n",
        "\n",
        "  inversa = numpy.copy(AB[:,n:])\n",
        "\n",
        "\n",
        "  print(\"Matriz aumentada:\")\n",
        "  print(AB0)\n",
        "  print(\"Pivoteo parcial por filas\")\n",
        "  print(AB1)\n",
        "  print('eliminacion hacia adelante')\n",
        "  print(AB2)\n",
        "  print('eliminación hacia atrás')\n",
        "  print(AB)\n",
        "  print(\"Inversa de la matriz: \")\n",
        "  print(inversa)"
      ],
      "metadata": {
        "id": "W8D8qO8OHwE1"
      },
      "execution_count": 28,
      "outputs": []
    },
    {
      "cell_type": "code",
      "source": [
        "A = numpy.array([[3,2,2],\n",
        "                [3,1,-3],\n",
        "                [1,0,-2]], dtype=float)\n",
        "\n",
        "inv(A)"
      ],
      "metadata": {
        "colab": {
          "base_uri": "https://localhost:8080/"
        },
        "id": "J0PbWqsVIp20",
        "outputId": "605ee41f-9776-45a9-923d-a63d8a48a0a0"
      },
      "execution_count": 29,
      "outputs": [
        {
          "output_type": "stream",
          "name": "stdout",
          "text": [
            "Matriz aumentada:\n",
            "[[ 3.  2.  2.  1.  0.  0.]\n",
            " [ 3.  1. -3.  0.  1.  0.]\n",
            " [ 1.  0. -2.  0.  0.  1.]]\n",
            "Pivoteo parcial por filas\n",
            "[[ 3.  2.  2.  1.  0.  0.]\n",
            " [ 3.  1. -3.  0.  1.  0.]\n",
            " [ 1.  0. -2.  0.  0.  1.]]\n",
            "eliminacion hacia adelante\n",
            "[[ 3.          2.          2.          1.          0.          0.        ]\n",
            " [ 0.         -1.         -5.         -1.          1.          0.        ]\n",
            " [ 0.          0.          0.66666667  0.33333333 -0.66666667  1.        ]]\n",
            "eliminación hacia atrás\n",
            "[[ 1.   0.   0.   1.  -2.   4. ]\n",
            " [-0.   1.  -0.  -1.5  4.  -7.5]\n",
            " [ 0.   0.   1.   0.5 -1.   1.5]]\n",
            "Inversa de la matriz: \n",
            "[[ 1.  -2.   4. ]\n",
            " [-1.5  4.  -7.5]\n",
            " [ 0.5 -1.   1.5]]\n"
          ]
        }
      ]
    },
    {
      "cell_type": "code",
      "source": [
        "B = numpy.array([[1,2,0,4],\n",
        "                [2,0,-1,-2],\n",
        "                [1,1,-1,0],\n",
        "                [0,4,1,0]], dtype=float)\n",
        "\n",
        "inv(B)"
      ],
      "metadata": {
        "colab": {
          "base_uri": "https://localhost:8080/"
        },
        "id": "YxUtOy8rIwZa",
        "outputId": "8551e9ee-0d15-481d-e70c-fd100fe15a29"
      },
      "execution_count": 30,
      "outputs": [
        {
          "output_type": "stream",
          "name": "stdout",
          "text": [
            "Matriz aumentada:\n",
            "[[ 1.  2.  0.  4.  1.  0.  0.  0.]\n",
            " [ 2.  0. -1. -2.  0.  1.  0.  0.]\n",
            " [ 1.  1. -1.  0.  0.  0.  1.  0.]\n",
            " [ 0.  4.  1.  0.  0.  0.  0.  1.]]\n",
            "Pivoteo parcial por filas\n",
            "[[ 2.  0. -1. -2.  0.  1.  0.  0.]\n",
            " [ 0.  4.  1.  0.  0.  0.  0.  1.]\n",
            " [ 1.  1. -1.  0.  0.  0.  1.  0.]\n",
            " [ 1.  2.  0.  4.  1.  0.  0.  0.]]\n",
            "eliminacion hacia adelante\n",
            "[[ 2.    0.   -1.   -2.    0.    1.    0.    0.  ]\n",
            " [ 0.    4.    1.    0.    0.    0.    0.    1.  ]\n",
            " [ 0.    0.   -0.75  1.    0.   -0.5   1.   -0.25]\n",
            " [ 0.    0.    0.    5.    1.   -0.5   0.   -0.5 ]]\n",
            "eliminación hacia atrás\n",
            "[[ 1.00000000e+00  0.00000000e+00  0.00000000e+00  0.00000000e+00\n",
            "   3.33333333e-01  6.66666667e-01 -6.66666667e-01 -1.38777878e-17]\n",
            " [ 0.00000000e+00  1.00000000e+00  0.00000000e+00  0.00000000e+00\n",
            "  -6.66666667e-02 -1.33333333e-01  3.33333333e-01  2.00000000e-01]\n",
            " [-0.00000000e+00 -0.00000000e+00  1.00000000e+00 -0.00000000e+00\n",
            "   2.66666667e-01  5.33333333e-01 -1.33333333e+00  2.00000000e-01]\n",
            " [ 0.00000000e+00  0.00000000e+00  0.00000000e+00  1.00000000e+00\n",
            "   2.00000000e-01 -1.00000000e-01  0.00000000e+00 -1.00000000e-01]]\n",
            "Inversa de la matriz: \n",
            "[[ 3.33333333e-01  6.66666667e-01 -6.66666667e-01 -1.38777878e-17]\n",
            " [-6.66666667e-02 -1.33333333e-01  3.33333333e-01  2.00000000e-01]\n",
            " [ 2.66666667e-01  5.33333333e-01 -1.33333333e+00  2.00000000e-01]\n",
            " [ 2.00000000e-01 -1.00000000e-01  0.00000000e+00 -1.00000000e-01]]\n"
          ]
        }
      ]
    }
  ]
}