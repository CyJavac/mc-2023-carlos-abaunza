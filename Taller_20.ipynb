{
  "nbformat": 4,
  "nbformat_minor": 0,
  "metadata": {
    "colab": {
      "provenance": [],
      "collapsed_sections": [
        "6FGZo1z_ZKKu"
      ]
    },
    "kernelspec": {
      "name": "python3",
      "display_name": "Python 3"
    },
    "language_info": {
      "name": "python"
    }
  },
  "cells": [
    {
      "cell_type": "markdown",
      "source": [
        "#Notas"
      ],
      "metadata": {
        "id": "1ESN9yubZH2W"
      }
    },
    {
      "cell_type": "markdown",
      "source": [
        "##Regresión polinomial\n",
        "###Grado 2\n",
        "\n",
        "$y=a_0+a_1+a_2x^2+e$\n",
        "\n",
        "$S_r = \\sum e^2 = \\sum(y_i-a_0-a_1-a_2x_i^2)^2$\n",
        "\n",
        "$\\frac{dS_r}{da_0} = -2\\sum(y_i-a_0-a_1-a_2x_i^2)=0$\n",
        "\n",
        "$\\sum(y_i-a_0-a_1-a_2x_i^2)=0$\n",
        "\n",
        "$\\sum y_i-\\sum^{i=1}_n a_0-\\sum a_1x_i-\\sum a_2x_i^2=0$\n",
        "\n",
        "$(\\sum y_i)-na_0-a_1(\\sum x_i)-a_2(\\sum x^2_i)=0$\n",
        "\n",
        "Error Estandar:\n",
        "\n",
        "$ S_{\\frac{y}{x}} = \\sqrt{\\frac{S_r}{n-(m+1)}} $\n",
        "\n",
        "m: numero del grado\n",
        "\n",
        "n: numero de puntos"
      ],
      "metadata": {
        "id": "Cy7q68xiZL1G"
      }
    },
    {
      "cell_type": "markdown",
      "source": [
        "#Ejemplo"
      ],
      "metadata": {
        "id": "6FGZo1z_ZKKu"
      }
    },
    {
      "cell_type": "code",
      "source": [
        "x=[0,1,2,3,4,5]\n",
        "y=[1,1,2.6,4.8,7.2,13]"
      ],
      "metadata": {
        "id": "L6yN8_7uVuTp"
      },
      "execution_count": 56,
      "outputs": []
    },
    {
      "cell_type": "code",
      "source": [
        "import numpy\n",
        "xx=[]\n",
        "xy=[]\n",
        "x3=[]\n",
        "x4=[]\n",
        "xxy=[]\n",
        "st=[]\n",
        "sr=[]\n",
        "\n",
        "\n",
        "\n",
        "N=len(x)\n",
        "\n",
        "#Sumatoria\n",
        "sx=0\n",
        "sy=0\n",
        "sxx=0\n",
        "sxy=0\n",
        "sx3=0\n",
        "sx4=0\n",
        "sxxy=0\n",
        "St=0\n",
        "Sr=0\n",
        "\n",
        "\n",
        "\n",
        "for i in range(N):\n",
        "  sx=sx+x[i]\n",
        "  sy=sy+y[i]\n",
        "\n",
        "\n",
        "  xx.append(x[i]**2)\n",
        "  xy.append(x[i]*y[i])\n",
        "  x3.append(x[i]**3)\n",
        "  x4.append(x[i]**4)\n",
        "  xxy.append(xx[i]*y[i])\n",
        "\n",
        "  sxy=sxy+xy[i]\n",
        "  sxx=sxx+xx[i]\n",
        "  sx3=sx3+x3[i]\n",
        "  sx4=sx4+x4[i]\n",
        "  sxxy=sxxy+xxy[i]\n",
        "\n",
        "\n",
        "\n",
        "#Promedio\n",
        "px=sx/N\n",
        "py=sy/N\n"
      ],
      "metadata": {
        "id": "DckIbmGTqII2"
      },
      "execution_count": 57,
      "outputs": []
    },
    {
      "cell_type": "code",
      "source": [
        "# Método de Gauss-Jordan\n",
        "# Solución a Sistemas de Ecuaciones\n",
        "# de la forma A.X=B\n",
        "# INGRESO\n",
        "A = numpy.array([[N,sx,sxx],\n",
        "              [sx,sxx,sx3],\n",
        "              [sxx,sx3,sx4]])\n",
        "\n",
        "B = numpy.array([[sy],\n",
        "              [sxy],\n",
        "              [sxxy]])\n",
        "\n",
        "# PROCEDIMIENTO\n",
        "casicero = 1e-15 # Considerar como 0\n",
        "\n",
        "# Evitar truncamiento en operaciones\n",
        "A = numpy.array(A,dtype=float) \n",
        "\n",
        "# Matriz aumentada\n",
        "AB = numpy.concatenate((A,B),axis=1)\n",
        "AB0 = numpy.copy(AB)\n",
        "\n",
        "# Pivoteo parcial por filas\n",
        "tamano = numpy.shape(AB)\n",
        "n = tamano[0]\n",
        "m = tamano[1]\n",
        "\n",
        "# Para cada fila en AB\n",
        "for i in range(0,n-1,1):\n",
        "    # columna desde diagonal i en adelante\n",
        "    columna = abs(AB[i:,i])\n",
        "    dondemax = numpy.argmax(columna)\n",
        "    \n",
        "    # dondemax no está en diagonal\n",
        "    if (dondemax !=0):\n",
        "        # intercambia filas\n",
        "        temporal = numpy.copy(AB[i,:])\n",
        "        AB[i,:] = AB[dondemax+i,:]\n",
        "        AB[dondemax+i,:] = temporal\n",
        "        \n",
        "AB1 = numpy.copy(AB)\n",
        "\n",
        "# eliminacion hacia adelante\n",
        "for i in range(0,n-1,1):\n",
        "    pivote = AB[i,i]\n",
        "    adelante = i + 1\n",
        "    for k in range(adelante,n,1):\n",
        "        factor = AB[k,i]/pivote\n",
        "        AB[k,:] = AB[k,:] - AB[i,:]*factor\n",
        "AB2 = numpy.copy(AB)\n",
        "\n",
        "# elimina hacia atras\n",
        "ultfila = n-1\n",
        "ultcolumna = m-1\n",
        "for i in range(ultfila,0-1,-1):\n",
        "    pivote = AB[i,i]\n",
        "    atras = i-1 \n",
        "    for k in range(atras,0-1,-1):\n",
        "        factor = AB[k,i]/pivote\n",
        "        AB[k,:] = AB[k,:] - AB[i,:]*factor\n",
        "    # diagonal a unos\n",
        "    AB[i,:] = AB[i,:]/AB[i,i]\n",
        "X = numpy.copy(AB[:,ultcolumna])\n",
        "X = numpy.transpose([X])\n",
        "\n",
        "\n",
        "# SALIDA\n",
        "print('Matriz aumentada:')\n",
        "print(AB0)\n",
        "print('Pivoteo parcial por filas')\n",
        "print(AB1)\n",
        "print('eliminacion hacia adelante')\n",
        "print(AB2)\n",
        "print('eliminación hacia atrás')\n",
        "print(AB)\n",
        "print('solución de X: ')\n",
        "print(X)"
      ],
      "metadata": {
        "colab": {
          "base_uri": "https://localhost:8080/"
        },
        "id": "zN1eEHISmph5",
        "outputId": "82ca493d-38cd-4e3b-bede-9eb65eb14893"
      },
      "execution_count": 58,
      "outputs": [
        {
          "output_type": "stream",
          "name": "stdout",
          "text": [
            "Matriz aumentada:\n",
            "[[  6.   15.   55.   29.6]\n",
            " [ 15.   55.  225.  114.4]\n",
            " [ 55.  225.  979.  494.8]]\n",
            "Pivoteo parcial por filas\n",
            "[[ 55.  225.  979.  494.8]\n",
            " [ 15.   55.  225.  114.4]\n",
            " [  6.   15.   55.   29.6]]\n",
            "eliminacion hacia adelante\n",
            "[[ 5.50000000e+01  2.25000000e+02  9.79000000e+02  4.94800000e+02]\n",
            " [ 1.77635684e-15 -6.36363636e+00 -4.20000000e+01 -2.05454545e+01]\n",
            " [-2.66453526e-15  0.00000000e+00  1.12000000e+01  6.44000000e+00]]\n",
            "eliminación hacia atrás\n",
            "[[ 1.00000000e+00  5.16758353e-16  2.06703341e-15  1.07857143e+00]\n",
            " [ 1.29103077e-15  1.00000000e+00 -0.00000000e+00 -5.66428571e-01]\n",
            " [-2.37904934e-16  0.00000000e+00  1.00000000e+00  5.75000000e-01]]\n",
            "solución de X: \n",
            "[[ 1.07857143]\n",
            " [-0.56642857]\n",
            " [ 0.575     ]]\n"
          ]
        }
      ]
    },
    {
      "cell_type": "code",
      "execution_count": 59,
      "metadata": {
        "colab": {
          "base_uri": "https://localhost:8080/"
        },
        "outputId": "083310fb-c0f1-4241-b13b-a763081b28f5",
        "id": "bro--tcZVuTp"
      },
      "outputs": [
        {
          "output_type": "stream",
          "name": "stdout",
          "text": [
            "n = 6\n",
            "\n",
            "Sumatoria x: 15\n",
            "Sumatoria y: 29.599999999999998\n",
            "Sumatoria xy: 114.4\n",
            "Sumatoria xx: 55\n",
            "Sumatoria x3: 225\n",
            "Sumatoria x4: 979\n",
            "Sumatoria xxy: 494.8\n",
            "\n",
            "Promedio x: 2.5\n",
            "Promedio y: 4.933333333333333\n",
            "\n",
            "a0= [1.07857143]\n",
            "a1= [-0.56642857]\n",
            "a2= [0.575]\n",
            "\n",
            "St= 106.61333333333333\n",
            "Sr= [1.00371429]\n",
            "Sy= 4.617647308604964\n",
            "Sy/x= [0.50092771]\n",
            "r= [99.5281604] %\n",
            "\n",
            "y= [1.07857143] + [-0.56642857] x + [0.575] x^2\n"
          ]
        }
      ],
      "source": [
        "\n",
        "print(\"n =\",N)\n",
        "print(\"\")\n",
        "print(\"Sumatoria x:\",sx)\n",
        "print(\"Sumatoria y:\",sy)\n",
        "print(\"Sumatoria xy:\",sxy)\n",
        "print(\"Sumatoria xx:\",sxx)\n",
        "print(\"Sumatoria x3:\",sx3)\n",
        "print(\"Sumatoria x4:\",sx4)\n",
        "print(\"Sumatoria xxy:\",sxxy)\n",
        "print(\"\")\n",
        "\n",
        "\n",
        "print(\"Promedio x:\",px)\n",
        "print(\"Promedio y:\",py)\n",
        "print(\"\")\n",
        "\n",
        "a0=X[0]\n",
        "a1=X[1]\n",
        "a2=X[2]\n",
        "\n",
        "\n",
        "for i in range(N):\n",
        "  st.append((y[i]-py)**2)\n",
        "  sr.append((y[i]-a0-a1*x[i]-a2*xx[i])**2)\n",
        "\n",
        "  St=St+st[i]\n",
        "  Sr=Sr+sr[i]\n",
        "\n",
        "\n",
        "#Raices\n",
        "Sy=numpy.sqrt(St/(N-1))\n",
        "Syx=numpy.sqrt(Sr/(N-2))\n",
        "r=numpy.sqrt(((St-Sr)/St))*100\n",
        "\n",
        "print(\"a0=\",a0)\n",
        "print(\"a1=\",a1)\n",
        "print(\"a2=\",a2)\n",
        "\n",
        "print(\"\")\n",
        "print(\"St=\",St)\n",
        "print(\"Sr=\",Sr)\n",
        "\n",
        "print(\"Sy=\",Sy)\n",
        "print(\"Sy/x=\",Syx)\n",
        "print(\"r=\",r,\"%\")\n",
        "\n",
        "\n",
        "print(\"\")\n",
        "print(\"y=\",a0,\"+\",a1,\"x\",\"+\",a2,\"x^2\")\n",
        "\n"
      ]
    },
    {
      "cell_type": "code",
      "source": [
        "from matplotlib import pyplot\n",
        "\n",
        "#Función\n",
        "def fx(x,a0,a1,a2):\n",
        "    return a0 + a1*x + a2*(x**2)\n",
        "# Valores de X que toma el gráfico.\n",
        "rango = range(-10, 15)\n",
        "\n",
        "#Grafica\n",
        "pyplot.plot(x,y, \"o\")\n",
        "pyplot.plot(rango, [fx(i,a0,a1,a2) for i in rango])\n",
        "\n",
        "#Color de los ejes.\n",
        "pyplot.axhline(0, color=\"black\")\n",
        "pyplot.axvline(0, color=\"black\")\n",
        "\n",
        "#Limites de los ejes\n",
        "pyplot.xlim(-3, 10)\n",
        "pyplot.ylim(0, 15)\n",
        "\n",
        "pyplot.savefig(\"output.png\")\n",
        "\n",
        "pyplot.show()"
      ],
      "metadata": {
        "colab": {
          "base_uri": "https://localhost:8080/",
          "height": 430
        },
        "outputId": "03cd9d3f-781f-451d-b0d7-d60df8b61bc3",
        "id": "OCGkorPgVuTp"
      },
      "execution_count": 60,
      "outputs": [
        {
          "output_type": "display_data",
          "data": {
            "text/plain": [
              "<Figure size 640x480 with 1 Axes>"
            ],
            "image/png": "[encoded data removed]"
          },
          "metadata": {}
        }
      ]
    },
    {
      "cell_type": "markdown",
      "source": [
        "#Taller 20"
      ],
      "metadata": {
        "id": "T_RHKuAIu8-7"
      }
    },
    {
      "cell_type": "code",
      "source": [
        "x=[0,1,2,3,4,5,6]\n",
        "y=[4.2,1.4,0,-0.4,-0.1,1.6,4.1]"
      ],
      "metadata": {
        "id": "8yyRfLCOu8_B"
      },
      "execution_count": 49,
      "outputs": []
    },
    {
      "cell_type": "code",
      "source": [
        "import numpy\n",
        "xx=[]\n",
        "xy=[]\n",
        "x3=[]\n",
        "x4=[]\n",
        "xxy=[]\n",
        "st=[]\n",
        "sr=[]\n",
        "\n",
        "\n",
        "\n",
        "N=len(x)\n",
        "\n",
        "#Sumatoria\n",
        "sx=0\n",
        "sy=0\n",
        "sxx=0\n",
        "sxy=0\n",
        "sx3=0\n",
        "sx4=0\n",
        "sxxy=0\n",
        "St=0\n",
        "Sr=0\n",
        "\n",
        "\n",
        "\n",
        "for i in range(N):\n",
        "  sx=sx+x[i]\n",
        "  sy=sy+y[i]\n",
        "\n",
        "\n",
        "  xx.append(x[i]**2)\n",
        "  xy.append(x[i]*y[i])\n",
        "  x3.append(x[i]**3)\n",
        "  x4.append(x[i]**4)\n",
        "  xxy.append(xx[i]*y[i])\n",
        "\n",
        "  sxy=sxy+xy[i]\n",
        "  sxx=sxx+xx[i]\n",
        "  sx3=sx3+x3[i]\n",
        "  sx4=sx4+x4[i]\n",
        "  sxxy=sxxy+xxy[i]\n",
        "\n",
        "\n",
        "\n",
        "#Promedio\n",
        "px=sx/N\n",
        "py=sy/N\n"
      ],
      "metadata": {
        "id": "y_ztF7EEu8_B"
      },
      "execution_count": 50,
      "outputs": []
    },
    {
      "cell_type": "code",
      "source": [
        "# Método de Gauss-Jordan\n",
        "# Solución a Sistemas de Ecuaciones\n",
        "# de la forma A.X=B\n",
        "# INGRESO\n",
        "A = numpy.array([[N,sx,sxx],\n",
        "              [sx,sxx,sx3],\n",
        "              [sxx,sx3,sx4]])\n",
        "\n",
        "B = numpy.array([[sy],\n",
        "              [sxy],\n",
        "              [sxxy]])\n",
        "\n",
        "# PROCEDIMIENTO\n",
        "casicero = 1e-15 # Considerar como 0\n",
        "\n",
        "# Evitar truncamiento en operaciones\n",
        "A = numpy.array(A,dtype=float) \n",
        "\n",
        "# Matriz aumentada\n",
        "AB = numpy.concatenate((A,B),axis=1)\n",
        "AB0 = numpy.copy(AB)\n",
        "\n",
        "# Pivoteo parcial por filas\n",
        "tamano = numpy.shape(AB)\n",
        "n = tamano[0]\n",
        "m = tamano[1]\n",
        "\n",
        "# Para cada fila en AB\n",
        "for i in range(0,n-1,1):\n",
        "    # columna desde diagonal i en adelante\n",
        "    columna = abs(AB[i:,i])\n",
        "    dondemax = numpy.argmax(columna)\n",
        "    \n",
        "    # dondemax no está en diagonal\n",
        "    if (dondemax !=0):\n",
        "        # intercambia filas\n",
        "        temporal = numpy.copy(AB[i,:])\n",
        "        AB[i,:] = AB[dondemax+i,:]\n",
        "        AB[dondemax+i,:] = temporal\n",
        "        \n",
        "AB1 = numpy.copy(AB)\n",
        "\n",
        "# eliminacion hacia adelante\n",
        "for i in range(0,n-1,1):\n",
        "    pivote = AB[i,i]\n",
        "    adelante = i + 1\n",
        "    for k in range(adelante,n,1):\n",
        "        factor = AB[k,i]/pivote\n",
        "        AB[k,:] = AB[k,:] - AB[i,:]*factor\n",
        "AB2 = numpy.copy(AB)\n",
        "\n",
        "# elimina hacia atras\n",
        "ultfila = n-1\n",
        "ultcolumna = m-1\n",
        "for i in range(ultfila,0-1,-1):\n",
        "    pivote = AB[i,i]\n",
        "    atras = i-1 \n",
        "    for k in range(atras,0-1,-1):\n",
        "        factor = AB[k,i]/pivote\n",
        "        AB[k,:] = AB[k,:] - AB[i,:]*factor\n",
        "    # diagonal a unos\n",
        "    AB[i,:] = AB[i,:]/AB[i,i]\n",
        "X = numpy.copy(AB[:,ultcolumna])\n",
        "X = numpy.transpose([X])\n",
        "\n",
        "\n",
        "# SALIDA\n",
        "print('Matriz aumentada:')\n",
        "print(AB0)\n",
        "print('Pivoteo parcial por filas')\n",
        "print(AB1)\n",
        "print('eliminacion hacia adelante')\n",
        "print(AB2)\n",
        "print('eliminación hacia atrás')\n",
        "print(AB)\n",
        "print('solución de X: ')\n",
        "print(X)"
      ],
      "metadata": {
        "colab": {
          "base_uri": "https://localhost:8080/"
        },
        "outputId": "0ecc7a5c-ff20-4c24-ef52-16200aadf8dc",
        "id": "0Bmmra92u8_B"
      },
      "execution_count": 52,
      "outputs": [
        {
          "output_type": "stream",
          "name": "stdout",
          "text": [
            "Matriz aumentada:\n",
            "[[   7.    21.    91.    10.8]\n",
            " [  21.    91.   441.    32.4]\n",
            " [  91.   441.  2275.   183.8]]\n",
            "Pivoteo parcial por filas\n",
            "[[  91.   441.  2275.   183.8]\n",
            " [  21.    91.   441.    32.4]\n",
            " [   7.    21.    91.    10.8]]\n",
            "eliminacion hacia adelante\n",
            "[[ 9.10000000e+01  4.41000000e+02  2.27500000e+03  1.83800000e+02]\n",
            " [ 0.00000000e+00 -1.07692308e+01 -8.40000000e+01 -1.00153846e+01]\n",
            " [ 0.00000000e+00  1.77635684e-15  1.68000000e+01  8.68000000e+00]]\n",
            "eliminación hacia atrás\n",
            "[[ 1.00000000e+00  0.00000000e+00  0.00000000e+00  4.12619048e+00]\n",
            " [-0.00000000e+00  1.00000000e+00 -0.00000000e+00 -3.10000000e+00]\n",
            " [ 0.00000000e+00  1.05735526e-16  1.00000000e+00  5.16666667e-01]]\n",
            "solución de X: \n",
            "[[ 4.12619048]\n",
            " [-3.1       ]\n",
            " [ 0.51666667]]\n"
          ]
        }
      ]
    },
    {
      "cell_type": "code",
      "execution_count": 53,
      "metadata": {
        "colab": {
          "base_uri": "https://localhost:8080/"
        },
        "outputId": "aac297dc-77f4-499a-8af2-2f39a1ca8819",
        "id": "XcXbmur0u8_C"
      },
      "outputs": [
        {
          "output_type": "stream",
          "name": "stdout",
          "text": [
            "n = 7\n",
            "\n",
            "Sumatoria x: 21\n",
            "Sumatoria y: 10.799999999999999\n",
            "Sumatoria xy: 32.4\n",
            "Sumatoria xx: 91\n",
            "Sumatoria x3: 441\n",
            "Sumatoria x4: 2275\n",
            "Sumatoria xxy: 183.8\n",
            "\n",
            "Promedio x: 3.0\n",
            "Promedio y: 1.5428571428571427\n",
            "\n",
            "a0= [4.12619048]\n",
            "a1= [-3.1]\n",
            "a2= [0.51666667]\n",
            "\n",
            "St= 22.477142857142855\n",
            "Sr= [0.05380952]\n",
            "Sy= 1.9355078083517194\n",
            "Sy/x= [0.1037396]\n",
            "r= [99.88022996] %\n",
            "\n",
            "y= [4.12619048] + [-3.1] x + [0.51666667] x^2\n"
          ]
        }
      ],
      "source": [
        "\n",
        "print(\"n =\",N)\n",
        "print(\"\")\n",
        "print(\"Sumatoria x:\",sx)\n",
        "print(\"Sumatoria y:\",sy)\n",
        "print(\"Sumatoria xy:\",sxy)\n",
        "print(\"Sumatoria xx:\",sxx)\n",
        "print(\"Sumatoria x3:\",sx3)\n",
        "print(\"Sumatoria x4:\",sx4)\n",
        "print(\"Sumatoria xxy:\",sxxy)\n",
        "print(\"\")\n",
        "\n",
        "\n",
        "print(\"Promedio x:\",px)\n",
        "print(\"Promedio y:\",py)\n",
        "print(\"\")\n",
        "\n",
        "a0=X[0]\n",
        "a1=X[1]\n",
        "a2=X[2]\n",
        "\n",
        "\n",
        "for i in range(N):\n",
        "  st.append((y[i]-py)**2)\n",
        "  sr.append((y[i]-a0-a1*x[i]-a2*xx[i])**2)\n",
        "\n",
        "  St=St+st[i]\n",
        "  Sr=Sr+sr[i]\n",
        "\n",
        "\n",
        "#Raices\n",
        "Sy=numpy.sqrt(St/(N-1))\n",
        "Syx=numpy.sqrt(Sr/(N-2))\n",
        "r=numpy.sqrt(((St-Sr)/St))*100\n",
        "\n",
        "print(\"a0=\",a0)\n",
        "print(\"a1=\",a1)\n",
        "print(\"a2=\",a2)\n",
        "\n",
        "print(\"\")\n",
        "print(\"St=\",St)\n",
        "print(\"Sr=\",Sr)\n",
        "\n",
        "print(\"Sy=\",Sy)\n",
        "print(\"Sy/x=\",Syx)\n",
        "print(\"r=\",r,\"%\")\n",
        "\n",
        "\n",
        "print(\"\")\n",
        "print(\"y=\",a0,\"+\",a1,\"x\",\"+\",a2,\"x^2\")\n",
        "\n"
      ]
    },
    {
      "cell_type": "code",
      "source": [
        "from matplotlib import pyplot\n",
        "\n",
        "#Función\n",
        "def fx(x,a0,a1,a2):\n",
        "    return a0 + a1*x + a2*(x**2)\n",
        "# Valores de X que toma el gráfico.\n",
        "rango = range(-10, 15)\n",
        "\n",
        "#Grafica\n",
        "pyplot.plot(x,y, \"o\")\n",
        "pyplot.plot(rango, [fx(i,a0,a1,a2) for i in rango])\n",
        "\n",
        "#Color de los ejes.\n",
        "pyplot.axhline(0, color=\"black\")\n",
        "pyplot.axvline(0, color=\"black\")\n",
        "\n",
        "#Limites de los ejes\n",
        "pyplot.xlim(-3, 10)\n",
        "pyplot.ylim(-2, 10)\n",
        "\n",
        "pyplot.savefig(\"output.png\")\n",
        "\n",
        "pyplot.show()"
      ],
      "metadata": {
        "colab": {
          "base_uri": "https://localhost:8080/",
          "height": 435
        },
        "outputId": "6018b44a-4af3-4463-9f4c-d657dcac3217",
        "id": "sHNrusaTu8_C"
      },
      "execution_count": 55,
      "outputs": [
        {
          "output_type": "display_data",
          "data": {
            "text/plain": [
              "<Figure size 640x480 with 1 Axes>"
            ],
            "image/png": "[encoded data removed]"
          },
          "metadata": {}
        }
      ]
    }
  ]
}