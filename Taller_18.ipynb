{
  "nbformat": 4,
  "nbformat_minor": 0,
  "metadata": {
    "colab": {
      "provenance": [],
      "collapsed_sections": [
        "p750itd6ZNMh"
      ]
    },
    "kernelspec": {
      "name": "python3",
      "display_name": "Python 3"
    },
    "language_info": {
      "name": "python"
    }
  },
  "cells": [
    {
      "cell_type": "markdown",
      "source": [
        "#Notas"
      ],
      "metadata": {
        "id": "p750itd6ZNMh"
      }
    },
    {
      "cell_type": "markdown",
      "source": [
        "α   β\n",
        "\n",
        "##$y=αx^β$\n",
        "\n",
        "$log(y)=log(α)+log(x^β)$\n",
        "\n",
        "$log(y)=log(α) + β * log(x)$\n",
        "\n",
        "==\n",
        "\n",
        "$y=a_0 + a_1*x$\n",
        "\n",
        "$x -> log(x)$\n",
        "\n",
        "$y-> log(y)$\n",
        "\n",
        "$log(α) = a_0$\n",
        "\n",
        "#$ln->log_e$\n",
        "\n",
        "$α=10^{a_0}$\n",
        "\n",
        "$β=a_1$\n",
        "\n",
        "\n",
        "###Función parecida:\n",
        "\n",
        "$y=α* x/β + x$\n"
      ],
      "metadata": {
        "id": "s2rAecI0WWxi"
      }
    },
    {
      "cell_type": "markdown",
      "source": [
        "##$y=αe^{βx}$\n",
        "\n",
        "x -> x\n",
        "\n",
        "y -> ln y\n",
        "\n",
        "$α = e^{a_0}$\n",
        "\n",
        "$β= a_1$\n",
        "\n",
        "##$y=αx^β$\n",
        "\n",
        "$x -> log x$\n",
        "\n",
        "$y -> log y$\n",
        "\n",
        "$α=10^{a_0}$\n",
        "\n",
        "$β=a_1$"
      ],
      "metadata": {
        "id": "z10ZCU4yYLuZ"
      }
    },
    {
      "cell_type": "markdown",
      "source": [
        "##$y=α * x/β+x$\n",
        "\n",
        "$y^{-1}=(α * x/β+x)^{-1}$\n",
        "\n",
        "$1/y = {1/α} * {β+x/x}$\n",
        "\n",
        "$1/y = {1/α} * ({β/x}+{x^1/x})$\n",
        "\n",
        "$1/y = {1/α} + {β/α} * {1/x}$\n",
        "\n",
        "$y=a_0 + a_1*x$\n",
        "\n",
        "----------\n",
        "\n",
        "$x -> 1/x$\n",
        "\n",
        "$y -> 1/y$\n",
        "\n",
        "-----------\n",
        "$a_0 = 1/α$\n",
        "\n",
        "$a_1 = β/α$\n",
        "\n",
        "\n",
        "$β=a_1*α$\n",
        "\n",
        "$β=a_1*1/a_0$\n",
        "\n",
        "==>\n",
        "\n",
        "$α=1/a_0$\n",
        "\n",
        "$β=a_1/a_0$"
      ],
      "metadata": {
        "id": "E6DSXNxSZXSI"
      }
    },
    {
      "cell_type": "markdown",
      "source": [
        "#Taller 18"
      ],
      "metadata": {
        "id": "Gfrn8NdkZphJ"
      }
    },
    {
      "cell_type": "code",
      "source": [
        "x=[0.5,1.5,2.5,3.5,4.5,5.5,6.5,7.5]\n",
        "y=[4.2,6.5,7.5,8,8.5,8.8,9,9.5]"
      ],
      "metadata": {
        "id": "ovjibiRfj5k5"
      },
      "execution_count": 54,
      "outputs": []
    },
    {
      "cell_type": "markdown",
      "source": [
        "##Lineal"
      ],
      "metadata": {
        "id": "GQyAY7FWjtHS"
      }
    },
    {
      "cell_type": "code",
      "execution_count": 55,
      "metadata": {
        "colab": {
          "base_uri": "https://localhost:8080/"
        },
        "outputId": "f48a2044-bb7b-401a-b47c-8ee0502cbe97",
        "id": "VUEuQsWpjyKL"
      },
      "outputs": [
        {
          "output_type": "stream",
          "name": "stdout",
          "text": [
            "n= 8\n",
            "Sumatoria x: 32.0\n",
            "Sumatoria y: 62.0\n",
            "Sumatoria xy: 275.0\n",
            "Sumatoria xx: 170.0\n",
            "Promedio x: 4.0\n",
            "Promedio y: 7.75\n",
            "a1= 0.6428571428571429\n",
            "a0= 5.178571428571429\n",
            "\n",
            "y= 0.6428571428571429 x + 5.178571428571429\n"
          ]
        }
      ],
      "source": [
        "\n",
        "xy=[]\n",
        "xx=[]\n",
        "n=len(x)\n",
        "\n",
        "#Sumatoria\n",
        "sx=0\n",
        "sy=0\n",
        "sxy=0\n",
        "sxx=0\n",
        "\n",
        "for i in range(n):\n",
        "  sx=sx+x[i]\n",
        "  sy=sy+y[i]\n",
        "\n",
        "  xy.append(x[i]*y[i])\n",
        "  xx.append(x[i]**2)\n",
        "\n",
        "  sxy=sxy+xy[i]\n",
        "  sxx=sxx+xx[i]\n",
        "\n",
        "print(\"n=\",n)\n",
        "print(\"Sumatoria x:\",sx)\n",
        "print(\"Sumatoria y:\",sy)\n",
        "print(\"Sumatoria xy:\",sxy)\n",
        "print(\"Sumatoria xx:\",sxx)\n",
        "\n",
        "#Promedio\n",
        "px=sx/n\n",
        "py=sy/n\n",
        "\n",
        "print(\"Promedio x:\",px)\n",
        "print(\"Promedio y:\",py)\n",
        "\n",
        "\n",
        "a1=(n*sxy-sx*sy)/(n*sxx-(sx**2))\n",
        "a0=py-a1*px\n",
        "\n",
        "print(\"a1=\",a1)\n",
        "print(\"a0=\",a0)\n",
        "print(\"\")\n",
        "print(\"y=\",a1,\"x\",\"+\",a0,)\n",
        "\n"
      ]
    },
    {
      "cell_type": "code",
      "source": [
        "from matplotlib import pyplot\n",
        "\n",
        "#Función\n",
        "def fx(x,a1,a0):\n",
        "    return a1*x + a0\n",
        "# Valores de X que toma el gráfico.\n",
        "rango = range(-10, 15)\n",
        "\n",
        "#Grafica\n",
        "pyplot.plot(x,y, \"o\")\n",
        "pyplot.plot(rango, [fx(i,a1,a0) for i in rango])\n",
        "\n",
        "#Color de los ejes.\n",
        "pyplot.axhline(0, color=\"black\")\n",
        "pyplot.axvline(0, color=\"black\")\n",
        "\n",
        "#Limites de los ejes\n",
        "pyplot.xlim(-3, 10)\n",
        "pyplot.ylim(0, 10)\n",
        "\n",
        "pyplot.savefig(\"output.png\")\n",
        "\n",
        "pyplot.show()"
      ],
      "metadata": {
        "colab": {
          "base_uri": "https://localhost:8080/",
          "height": 435
        },
        "outputId": "994e9da1-a251-4d42-e83b-5f51483a3a08",
        "id": "_wRJOVbNj1RK"
      },
      "execution_count": 56,
      "outputs": [
        {
          "output_type": "display_data",
          "data": {
            "text/plain": [
              "<Figure size 640x480 with 1 Axes>"
            ],
            "image/png": "[encoded data removed]"
          },
          "metadata": {}
        }
      ]
    },
    {
      "cell_type": "markdown",
      "source": [
        "##Exponencial"
      ],
      "metadata": {
        "id": "MgMsIYbTkcML"
      }
    },
    {
      "cell_type": "code",
      "execution_count": 57,
      "metadata": {
        "colab": {
          "base_uri": "https://localhost:8080/"
        },
        "outputId": "feee7b3f-9e93-470b-de38-c06022cfb110",
        "id": "7m-ycxxakeIc"
      },
      "outputs": [
        {
          "output_type": "stream",
          "name": "stdout",
          "text": [
            "ln(y)= [1.4350845252893227, 1.8718021769015913, 2.0149030205422647, 2.0794415416798357, 2.1400661634962708, 2.174751721484161, 2.1972245773362196, 2.2512917986064953]\n",
            "n= 8\n",
            "Sumatoria x: 32.0\n",
            "Sumatoria ln(y): 16.16456552533616\n",
            "Sumatoria xy: 68.59862892136238\n",
            "Sumatoria xx: 170.0\n",
            "Promedio x: 4.0\n",
            "Promedio y: 2.02057069066702\n",
            "a1= 0.09381825761946974\n",
            "a0= 1.6452976601891414\n",
            "\n",
            "y= 5.18255231688298 e^ 0.09381825761946974 x\n"
          ]
        }
      ],
      "source": [
        "import numpy\n",
        "\n",
        "lny=[]\n",
        "\n",
        "xy=[]\n",
        "xx=[]\n",
        "n=len(x)\n",
        "\n",
        "\n",
        "for i in range(n):\n",
        "  lny.append(numpy.log(y[i]))\n",
        "\n",
        "print(\"ln(y)=\",lny)\n",
        "\n",
        "#Sumatoria\n",
        "sx=0\n",
        "slny=0\n",
        "sxy=0\n",
        "sxx=0\n",
        "\n",
        "for i in range(n):\n",
        "  sx=sx+x[i]\n",
        "  slny=slny+lny[i]\n",
        "\n",
        "  xy.append(x[i]*lny[i])\n",
        "  xx.append(x[i]**2)\n",
        "\n",
        "  sxy=sxy+xy[i]\n",
        "  sxx=sxx+xx[i]\n",
        "\n",
        "print(\"n=\",n)\n",
        "print(\"Sumatoria x:\",sx)\n",
        "print(\"Sumatoria ln(y):\",slny)\n",
        "print(\"Sumatoria xy:\",sxy)\n",
        "print(\"Sumatoria xx:\",sxx)\n",
        "\n",
        "#Promedio\n",
        "px=sx/n\n",
        "py=slny/n\n",
        "\n",
        "print(\"Promedio x:\",px)\n",
        "print(\"Promedio y:\",py)\n",
        "\n",
        "\n",
        "a1=(n*sxy-sx*slny)/(n*sxx-(sx**2))\n",
        "a0=py-a1*px\n",
        "\n",
        "print(\"a1=\",a1)\n",
        "print(\"a0=\",a0)\n",
        "print(\"\")\n",
        "\n",
        "#  α   β\n",
        "α=numpy.exp(a0)\n",
        "β=a1\n",
        "\n",
        "print(\"y=\",α,\"e^\",β,\"x\")\n"
      ]
    },
    {
      "cell_type": "code",
      "source": [
        "from matplotlib import pyplot\n",
        "\n",
        "#----Funciones---\n",
        "\n",
        "\"\"\"#--Lineal--\n",
        "def fx(x,a1,a0):\n",
        "  return a1*x + a0\n",
        "\"\"\"\n",
        "#---Exponencial---\n",
        "def fxln(x,a1,a0):\n",
        "  return a0*numpy.exp(a1*x)\n",
        "\n",
        "#Valores de X que toma el gráfico.\n",
        "rango = range(-10, 15)\n",
        "\n",
        "#------Grafica---------\n",
        "\n",
        "\"\"\"\n",
        "#---Lineal---\n",
        "\n",
        "pyplot.plot(x,lny, \"o\")\n",
        "pyplot.plot(rango, [fx(i,a1,a0) for i in rango])\n",
        "\n",
        "\"\"\"\n",
        "\n",
        "#---Exponencial---\n",
        "pyplot.plot(x,y, \"o\")\n",
        "pyplot.plot(rango, [fxln(i,β,α) for i in rango])\n",
        "\n",
        "\n",
        "\n",
        "#Color de los ejes.\n",
        "pyplot.axhline(0, color=\"black\")\n",
        "pyplot.axvline(0, color=\"black\")\n",
        "\n",
        "#Limites de los ejes\n",
        "pyplot.xlim(-3, 11)\n",
        "pyplot.ylim(-5, 15)\n",
        "\n",
        "pyplot.savefig(\"output.png\")\n",
        "\n",
        "pyplot.show()"
      ],
      "metadata": {
        "colab": {
          "base_uri": "https://localhost:8080/",
          "height": 435
        },
        "outputId": "bb201662-05de-4c0f-f1f2-6d7dba3bd06b",
        "id": "CQaB3t41kijr"
      },
      "execution_count": 58,
      "outputs": [
        {
          "output_type": "display_data",
          "data": {
            "text/plain": [
              "<Figure size 640x480 with 1 Axes>"
            ],
            "image/png": "[encoded data removed]"
          },
          "metadata": {}
        }
      ]
    },
    {
      "cell_type": "markdown",
      "source": [
        "##Ecuación de potencias"
      ],
      "metadata": {
        "id": "sfmWP48kk3LK"
      }
    },
    {
      "cell_type": "code",
      "execution_count": 64,
      "metadata": {
        "colab": {
          "base_uri": "https://localhost:8080/"
        },
        "outputId": "84dc5cf7-e1bd-481e-bd1d-7c76843e483c",
        "id": "5FPhb6lQlFkt"
      },
      "outputs": [
        {
          "output_type": "stream",
          "name": "stdout",
          "text": [
            "xd= [-0.3010299956639812, 0.17609125905568124, 0.3979400086720376, 0.5440680443502757, 0.6532125137753437, 0.7403626894942439, 0.8129133566428556, 0.8750612633917001]\n",
            "yd= [0.6232492903979004, 0.8129133566428556, 0.8750612633917001, 0.9030899869919435, 0.9294189257142927, 0.9444826721501687, 0.9542425094393249, 0.9777236052888477]\n",
            "n= 8\n",
            "Sumatoria xd: 3.8986191397181567\n",
            "Sumatoria yd: 7.020181610017033\n",
            "Sumatoria xy: 3.7327468339676333\n",
            "Sumatoria xx: 2.9773773174351934\n",
            "Promedio x: 0.4873273924647696\n",
            "Promedio y: 0.8775227012521292\n",
            "a1= 0.2892136642655418\n",
            "a0= 0.7365809603804214\n",
            "\n",
            "\n",
            "y= 5.452315272764888 x^ 0.2892136642655418\n"
          ]
        }
      ],
      "source": [
        "import numpy\n",
        "\n",
        "xd=[]\n",
        "yd=[]\n",
        "\n",
        "xy=[]\n",
        "xx=[]\n",
        "n=len(x)\n",
        "\n",
        "\n",
        "for i in range(n):\n",
        "  xd.append(numpy.log10(x[i]))\n",
        "\n",
        "for i in range(n):\n",
        "  yd.append(numpy.log10(y[i]))\n",
        "\n",
        "print(\"xd=\",xd)\n",
        "print(\"yd=\",yd)\n",
        "\n",
        "#Sumatoria\n",
        "sxd=0\n",
        "syd=0\n",
        "sxy=0\n",
        "sxx=0\n",
        "\n",
        "for i in range(n):\n",
        "  sxd=sxd+xd[i]\n",
        "  syd=syd+yd[i]\n",
        "\n",
        "  xy.append(xd[i]*yd[i])\n",
        "  xx.append(xd[i]**2)\n",
        "\n",
        "  sxy=sxy+xy[i]\n",
        "  sxx=sxx+xx[i]\n",
        "\n",
        "print(\"n=\",n)\n",
        "print(\"Sumatoria xd:\",sxd)\n",
        "print(\"Sumatoria yd:\",syd)\n",
        "print(\"Sumatoria xy:\",sxy)\n",
        "print(\"Sumatoria xx:\",sxx)\n",
        "\n",
        "#Promedio\n",
        "px=sxd/n\n",
        "py=syd/n\n",
        "\n",
        "print(\"Promedio x:\",px)\n",
        "print(\"Promedio y:\",py)\n",
        "\n",
        "\n",
        "a1=(n*sxy-sxd*syd)/(n*sxx-(sxd**2))\n",
        "a0=py-a1*px\n",
        "\n",
        "print(\"a1=\",a1)\n",
        "print(\"a0=\",a0)\n",
        "print(\"\")\n",
        "\n",
        "#  α   β\n",
        "α=10**a0\n",
        "β=a1\n",
        "\n",
        "print(\"\")\n",
        "print(\"y=\",α,\"x^\",β)\n"
      ]
    },
    {
      "cell_type": "code",
      "source": [
        "from matplotlib import pyplot\n",
        "\n",
        "#----Funciones---\n",
        "#---Exponencial---\n",
        "def fxln2(x,a1,a0):\n",
        "  return a0*(x**(a1))\n",
        "\n",
        "\n",
        "#Valores de X que toma el gráfico.\n",
        "rango = range(-10, 15)\n",
        "\n",
        "\n",
        "#------Grafica---------\n",
        "pyplot.plot(x,y, \"o\")\n",
        "pyplot.plot(rango, [fxln2(i,β,α) for i in rango])\n",
        "\n",
        "\n",
        "#Color de los ejes.\n",
        "pyplot.axhline(0, color=\"black\")\n",
        "pyplot.axvline(0, color=\"black\")\n",
        "\n",
        "#Limites de los ejes\n",
        "pyplot.xlim(0, 8)\n",
        "pyplot.ylim(-1, 10)\n",
        "\n",
        "pyplot.savefig(\"output.png\")\n",
        "\n",
        "pyplot.show()"
      ],
      "metadata": {
        "colab": {
          "base_uri": "https://localhost:8080/",
          "height": 470
        },
        "outputId": "65c4a785-6122-4f93-969a-15808c42cc01",
        "id": "TM7Tauc1lIm9"
      },
      "execution_count": 65,
      "outputs": [
        {
          "output_type": "stream",
          "name": "stderr",
          "text": [
            "<ipython-input-65-2dda1f03a965>:6: RuntimeWarning: invalid value encountered in double_scalars\n",
            "  return a0*(x**(a1))\n"
          ]
        },
        {
          "output_type": "display_data",
          "data": {
            "text/plain": [
              "<Figure size 640x480 with 1 Axes>"
            ],
            "image/png": "[encoded data removed]"
          },
          "metadata": {}
        }
      ]
    },
    {
      "cell_type": "markdown",
      "source": [
        "##Razón de crecimiento "
      ],
      "metadata": {
        "id": "oMBvtpNGgIpT"
      }
    },
    {
      "cell_type": "code",
      "execution_count": 71,
      "metadata": {
        "colab": {
          "base_uri": "https://localhost:8080/"
        },
        "id": "f9uMHCfvYchN",
        "outputId": "51dd0c98-685f-4897-9b8e-92c851b2a547"
      },
      "outputs": [
        {
          "output_type": "stream",
          "name": "stdout",
          "text": [
            "xd= [2.0, 0.6666666666666666, 0.4, 0.2857142857142857, 0.2222222222222222, 0.18181818181818182, 0.15384615384615385, 0.13333333333333333]\n",
            "yd= [0.23809523809523808, 0.15384615384615385, 0.13333333333333333, 0.125, 0.11764705882352941, 0.11363636363636363, 0.1111111111111111, 0.10526315789473684]\n",
            "n= 8\n",
            "Sumatoria xd: 4.043600843600843\n",
            "Sumatoria yd: 1.0979324167404663\n",
            "Sumatoria xy: 0.7457362504899798\n",
            "Sumatoria xx: 4.809964081625754\n",
            "Promedio x: 0.5054501054501054\n",
            "Promedio y: 0.13724155209255828\n",
            "a1= 0.06897235398943045\n",
            "a0= 0.10237946849545866\n",
            "\n",
            "\n",
            "y= 9.76758342952677 * x /( 0.6736932219226155 + x)\n"
          ]
        }
      ],
      "source": [
        "import numpy\n",
        "\n",
        "\n",
        "x=[0.5,1.5,2.5,3.5,4.5,5.5,6.5,7.5]\n",
        "y=[4.2,6.5,7.5,8,8.5,8.8,9,9.5]\n",
        "\n",
        "xd=[]\n",
        "yd=[]\n",
        "\n",
        "xy=[]\n",
        "xx=[]\n",
        "n=len(x)\n",
        "\n",
        "\n",
        "for i in range(n):\n",
        "  xd.append(1/x[i])\n",
        "\n",
        "for i in range(n):\n",
        "  yd.append(1/y[i])\n",
        "\n",
        "print(\"xd=\",xd)\n",
        "print(\"yd=\",yd)\n",
        "\n",
        "#Sumatoria\n",
        "sxd=0\n",
        "syd=0\n",
        "sxy=0\n",
        "sxx=0\n",
        "\n",
        "for i in range(n):\n",
        "  sxd=sxd+xd[i]\n",
        "  syd=syd+yd[i]\n",
        "\n",
        "  xy.append(xd[i]*yd[i])\n",
        "  xx.append(xd[i]**2)\n",
        "\n",
        "  sxy=sxy+xy[i]\n",
        "  sxx=sxx+xx[i]\n",
        "\n",
        "print(\"n=\",n)\n",
        "print(\"Sumatoria xd:\",sxd)\n",
        "print(\"Sumatoria yd:\",syd)\n",
        "print(\"Sumatoria xy:\",sxy)\n",
        "print(\"Sumatoria xx:\",sxx)\n",
        "\n",
        "#Promedio\n",
        "px=sxd/n\n",
        "py=syd/n\n",
        "\n",
        "print(\"Promedio x:\",px)\n",
        "print(\"Promedio y:\",py)\n",
        "\n",
        "\n",
        "a1=(n*sxy-sxd*syd)/(n*sxx-(sxd**2))\n",
        "a0=py-a1*px\n",
        "\n",
        "print(\"a1=\",a1)\n",
        "print(\"a0=\",a0)\n",
        "print(\"\")\n",
        "\n",
        "#  α   β\n",
        "α=1/a0\n",
        "β=a1/a0\n",
        "\n",
        "print(\"\")\n",
        "print(\"y=\",α,\"* x /(\",β,\"+ x)\")\n"
      ]
    },
    {
      "cell_type": "code",
      "source": [
        "from matplotlib import pyplot\n",
        "\n",
        "#----Funciones---\n",
        "\n",
        "def fxln3(x,a1,a0):\n",
        "  return a0*(x/(a1+x))\n",
        "\n",
        "\n",
        "#Valores de X que toma el gráfico.\n",
        "rango = range(-10, 15)\n",
        "\n",
        "\n",
        "#------Grafica---------\n",
        "pyplot.plot(x,y, \"o\")\n",
        "pyplot.plot(rango, [fxln3(i,β,α) for i in rango])\n",
        "\n",
        "\n",
        "#Color de los ejes.\n",
        "pyplot.axhline(0, color=\"black\")\n",
        "pyplot.axvline(0, color=\"black\")\n",
        "\n",
        "#Limites de los ejes\n",
        "pyplot.xlim(0, 8)\n",
        "pyplot.ylim(-1, 10)\n",
        "\n",
        "pyplot.savefig(\"output.png\")\n",
        "\n",
        "pyplot.show()"
      ],
      "metadata": {
        "colab": {
          "base_uri": "https://localhost:8080/",
          "height": 435
        },
        "id": "ZxMa1Yp7gU0G",
        "outputId": "934e7845-c9a8-473e-cd9e-61bf75b0dcc1"
      },
      "execution_count": 69,
      "outputs": [
        {
          "output_type": "display_data",
          "data": {
            "text/plain": [
              "<Figure size 640x480 with 1 Axes>"
            ],
            "image/png": "[encoded data removed]"
          },
          "metadata": {}
        }
      ]
    }
  ]
}