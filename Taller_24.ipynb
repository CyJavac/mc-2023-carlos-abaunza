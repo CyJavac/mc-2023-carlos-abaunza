{
  "nbformat": 4,
  "nbformat_minor": 0,
  "metadata": {
    "colab": {
      "provenance": [],
      "collapsed_sections": [
        "9Etsu6e5m1jq"
      ]
    },
    "kernelspec": {
      "name": "python3",
      "display_name": "Python 3"
    },
    "language_info": {
      "name": "python"
    }
  },
  "cells": [
    {
      "cell_type": "code",
      "source": [
        "import numpy\n",
        "import sympy as sym\n",
        "import matplotlib.pyplot as plt\n",
        "\n",
        "def traza3natural(xi,yi):\n",
        "    n = len(xi)\n",
        "    \n",
        "    # Valores h\n",
        "    h = numpy.zeros(n-1, dtype = float)\n",
        "    for j in range(0,n-1,1):\n",
        "        h[j] = xi[j+1] - xi[j]\n",
        "    \n",
        "    # Sistema de ecuaciones\n",
        "    A = numpy.zeros(shape=(n-2,n-2), dtype = float)\n",
        "    B = numpy.zeros(n-2, dtype = float)\n",
        "    S = numpy.zeros(n, dtype = float)\n",
        "\n",
        "    A[0,0] = 2*(h[0]+h[1])\n",
        "    A[0,1] = h[1]\n",
        "    B[0] = 6*((yi[2]-yi[1])/h[1] - (yi[1]-yi[0])/h[0])\n",
        "\n",
        "    for i in range(1,n-3,1):\n",
        "        A[i,i-1] = h[i]\n",
        "        A[i,i] = 2*(h[i]+h[i+1])\n",
        "        A[i,i+1] = h[i+1]\n",
        "        factor21 = (yi[i+2]-yi[i+1])/h[i+1]\n",
        "        factor10 = (yi[i+1]-yi[i])/h[i]\n",
        "        B[i] = 6*(factor21 - factor10)\n",
        "        \n",
        "    A[n-3,n-4] = h[n-3]\n",
        "    A[n-3,n-3] = 2*(h[n-3]+h[n-2])\n",
        "    factor12 = (yi[n-1]-yi[n-2])/h[n-2]\n",
        "    factor23 = (yi[n-2]-yi[n-3])/h[n-3]\n",
        "    B[n-3] = 6*(factor12 - factor23)\n",
        "    \n",
        "    # Resolver sistema de ecuaciones S\n",
        "    r = numpy.linalg.solve(A,B)\n",
        "    for j in range(1,n-1,1):\n",
        "        S[j] = r[j-1]\n",
        "    S[0] = 0\n",
        "    S[n-1] = 0\n",
        "    \n",
        "    # Coeficientes\n",
        "    a = numpy.zeros(n-1, dtype = float)\n",
        "    b = numpy.zeros(n-1, dtype = float)\n",
        "    c = numpy.zeros(n-1, dtype = float)\n",
        "    d = numpy.zeros(n-1, dtype = float)\n",
        "    for j in range(0,n-1,1):\n",
        "        a[j] = (S[j+1]-S[j])/(6*h[j])\n",
        "        b[j] = S[j]/2\n",
        "        factor10 = (yi[j+1]-yi[j])/h[j]\n",
        "        c[j] = factor10 - (2*h[j]*S[j]+h[j]*S[j+1])/6\n",
        "        d[j] = yi[j]\n",
        "    \n",
        "    # Polinomio trazador\n",
        "    x = sym.Symbol(\"x\")\n",
        "    px_tabla = []\n",
        "    for j in range(0,n-1,1):\n",
        "\n",
        "        pxtramo = a[j]*(x-xi[j])**3 + b[j]*(x-xi[j])**2\n",
        "        pxtramo = pxtramo + c[j]*(x-xi[j])+ d[j]\n",
        "        \n",
        "        pxtramo = pxtramo.expand()\n",
        "        px_tabla.append(pxtramo)\n",
        "    \n",
        "    return(px_tabla)"
      ],
      "metadata": {
        "id": "1FfbenOt0b_5"
      },
      "execution_count": 38,
      "outputs": []
    },
    {
      "cell_type": "markdown",
      "source": [
        "#Ejemplo"
      ],
      "metadata": {
        "id": "9Etsu6e5m1jq"
      }
    },
    {
      "cell_type": "code",
      "source": [
        "\n",
        "xi = numpy.array([0 , 1 , 2 , 3 , 4])\n",
        "fi = numpy.array([1,0.9,-1,-2.3,1.8])\n",
        "muestras = 10 # entre cada par de puntos"
      ],
      "metadata": {
        "id": "fSh1D3Uendt8"
      },
      "execution_count": 39,
      "outputs": []
    },
    {
      "cell_type": "code",
      "source": [
        "\n",
        "\n",
        "\n",
        "# Tabla de polinomios por tramos\n",
        "n = len(xi)\n",
        "px_tabla = traza3natural(xi,fi)\n",
        "\n",
        "# SALIDA\n",
        "print(\"Polinomios por tramos: \")\n",
        "for tramo in range(1,n,1):\n",
        "    print(\" x = [\"+str(xi[tramo-1])\n",
        "          +\",\"+str(xi[tramo])+\"]\")\n",
        "    print(str(px_tabla[tramo-1]))"
      ],
      "metadata": {
        "colab": {
          "base_uri": "https://localhost:8080/"
        },
        "id": "R-itt4-gm1Ij",
        "outputId": "4037eb45-236e-4cae-f445-9fcdedf7b478"
      },
      "execution_count": 40,
      "outputs": [
        {
          "output_type": "stream",
          "name": "stdout",
          "text": [
            "Polinomios por tramos: \n",
            " x = [0,1]\n",
            "-0.428571428571429*x**3 + 0.328571428571429*x + 1.0\n",
            " x = [1,2]\n",
            "0.342857142857143*x**3 - 2.31428571428571*x**2 + 2.64285714285714*x + 0.228571428571429\n",
            " x = [2,3]\n",
            "1.45714285714286*x**3 - 9.0*x**2 + 16.0142857142857*x - 8.68571428571429\n",
            " x = [3,4]\n",
            "-1.37142857142857*x**3 + 16.4571428571429*x**2 - 60.3571428571428*x + 67.6857142857143\n"
          ]
        }
      ]
    },
    {
      "cell_type": "code",
      "source": [
        "xn=0.5\n",
        "\n",
        "print(\"f1(0,5)= \",(-0.428571428571429*xn**3 + 0.328571428571429*xn + 1.0))\n",
        "\n",
        "print(\"f2(0,5)= \",(0.342857142857143*xn**3 - 2.31428571428571*xn**2 + 2.64285714285714*xn + 0.228571428571429))\n",
        "\n",
        "print(\"f3(0,5)= \",(1.45714285714286*xn**3 - 9.0*xn**2 + 16.0142857142857*xn - 8.68571428571429))\n",
        "\n",
        "print(\"f4(0,5)= \",(-1.37142857142857*xn**3 + 16.4571428571429*xn**2 - 60.3571428571428*xn + 67.6857142857143))\n"
      ],
      "metadata": {
        "colab": {
          "base_uri": "https://localhost:8080/"
        },
        "id": "QK1SYmXg1nYL",
        "outputId": "1cbe2890-e3f9-429c-8709-9ac751f8ae5f"
      },
      "execution_count": 49,
      "outputs": [
        {
          "output_type": "stream",
          "name": "stdout",
          "text": [
            "f1(0,5)=  1.1107142857142858\n",
            "f2(0,5)=  1.0142857142857145\n",
            "f3(0,5)=  -2.7464285714285843\n",
            "f4(0,5)=  41.45000000000005\n"
          ]
        }
      ]
    },
    {
      "cell_type": "markdown",
      "source": [
        "##Grafica"
      ],
      "metadata": {
        "id": "bnI8-Sv7m5fS"
      }
    },
    {
      "cell_type": "code",
      "source": [
        "# GRAFICA\n",
        "# Puntos para graficar cada tramo\n",
        "xtraza = numpy.array([])\n",
        "ytraza = numpy.array([])\n",
        "tramo = 1\n",
        "while not(tramo>=n):\n",
        "    a = xi[tramo-1]\n",
        "    b = xi[tramo]\n",
        "    xtramo = numpy.linspace(a,b,muestras)\n",
        "    \n",
        "    # evalua polinomio del tramo\n",
        "    pxtramo = px_tabla[tramo-1]\n",
        "    pxt = sym.lambdify(\"x\",pxtramo)\n",
        "    ytramo = pxt(xtramo)\n",
        "\n",
        "    # vectores de trazador en x,y\n",
        "    xtraza = numpy.concatenate((xtraza,xtramo))\n",
        "    ytraza = numpy.concatenate((ytraza,ytramo))\n",
        "    tramo = tramo + 1\n",
        "\n",
        "# Gráfica\n",
        "plt.plot(xi,fi,\"o\")\n",
        "plt.plot(xtraza,ytraza)\n",
        "\n",
        "plt.show()"
      ],
      "metadata": {
        "colab": {
          "base_uri": "https://localhost:8080/",
          "height": 434
        },
        "id": "xbeh62KVm48q",
        "outputId": "6754b132-05dd-4257-ac8e-7a0f1e2f71d4"
      },
      "execution_count": 41,
      "outputs": [
        {
          "output_type": "display_data",
          "data": {
            "text/plain": [
              "<Figure size 640x480 with 1 Axes>"
            ],
            "image/png": "[encoded data removed]"
          },
          "metadata": {}
        }
      ]
    },
    {
      "cell_type": "markdown",
      "source": [
        "#Taller"
      ],
      "metadata": {
        "id": "kW8ejijyzmxa"
      }
    },
    {
      "cell_type": "code",
      "source": [
        "xi = numpy.array([0 , 1 , 2 , 3 , 4 , 5 , 6])\n",
        "fi = numpy.array([3 , 5 , 6 , 5 , -2 , 2 , 13])\n",
        "muestras = 10 # entre cada par de puntos"
      ],
      "metadata": {
        "id": "_tRGPwMWzmxb"
      },
      "execution_count": 42,
      "outputs": []
    },
    {
      "cell_type": "code",
      "source": [
        "# Tabla de polinomios por tramos\n",
        "n = len(xi)\n",
        "px_tabla = traza3natural(xi,fi)\n",
        "\n",
        "# SALIDA\n",
        "print(\"Polinomios por tramos: \")\n",
        "for tramo in range(1,n,1):\n",
        "    print(\" x = [\"+str(xi[tramo-1])\n",
        "          +\",\"+str(xi[tramo])+\"]\")\n",
        "    print(str(px_tabla[tramo-1]))"
      ],
      "metadata": {
        "colab": {
          "base_uri": "https://localhost:8080/"
        },
        "outputId": "d80ab8e1-7d0f-402f-da34-09e00616902a",
        "id": "C0-Py955zmxb"
      },
      "execution_count": 43,
      "outputs": [
        {
          "output_type": "stream",
          "name": "stdout",
          "text": [
            "Polinomios por tramos: \n",
            " x = [0,1]\n",
            "-0.287179487179487*x**3 + 2.28717948717949*x + 3.0\n",
            " x = [1,2]\n",
            "0.435897435897436*x**3 - 2.16923076923077*x**2 + 4.45641025641026*x + 2.27692307692308\n",
            " x = [2,3]\n",
            "-2.45641025641026*x**3 + 15.1846153846154*x**2 - 30.2512820512821*x + 25.4153846153846\n",
            " x = [3,4]\n",
            "5.38974358974359*x**3 - 55.4307692307692*x**2 + 181.594871794872*x - 186.430769230769\n",
            " x = [4,5]\n",
            "-2.1025641025641*x**3 + 34.4769230769231*x**2 - 178.035897435897*x + 293.076923076923\n",
            " x = [5,6]\n",
            "-0.97948717948718*x**3 + 17.6307692307692*x**2 - 93.8051282051282*x + 152.692307692308\n"
          ]
        }
      ]
    },
    {
      "cell_type": "code",
      "source": [
        "xn=3.25\n",
        "\n",
        "print(\"f1(3,25)= \",(-0.287179487179487*xn**3 + 2.28717948717949*xn + 3.0))\n",
        "\n",
        "print(\"f2(3,25)= \",(0.435897435897436*xn**3 - 2.16923076923077*xn**2 + 4.45641025641026*xn + 2.27692307692308))\n",
        "\n",
        "print(\"f3(3,25)= \",(-2.45641025641026*xn**3 + 15.1846153846154*xn**2 - 30.2512820512821*xn + 25.4153846153846))\n",
        "\n",
        "print(\"f4(3,25)= \",(5.38974358974359*xn**3 - 55.4307692307692*xn**2 + 181.594871794872*xn - 186.430769230769))\n",
        "\n",
        "print(\"f5(3,25)= \",(-2.1025641025641*xn**3 + 34.4769230769231*xn**2 - 178.035897435897*xn + 293.076923076923))\n",
        "\n",
        "print(\"f6(3,25)= \",(-0.97948717948718*xn**3 + 17.6307692307692*xn**2 - 93.8051282051282*xn + 152.692307692308))"
      ],
      "metadata": {
        "colab": {
          "base_uri": "https://localhost:8080/"
        },
        "id": "CtbYGKXc0yOC",
        "outputId": "f55cc3df-2cc6-4526-e833-fbd85580901a"
      },
      "execution_count": 50,
      "outputs": [
        {
          "output_type": "stream",
          "name": "stdout",
          "text": [
            "f1(3,25)=  0.5750000000000162\n",
            "f2(3,25)=  8.811298076923087\n",
            "f3(3,25)=  3.1622596153844746\n",
            "f4(3,25)=  3.284855769232081\n",
            "f5(3,25)=  6.445673076924777\n",
            "f6(3,25)=  0.42668269230765077\n"
          ]
        }
      ]
    },
    {
      "cell_type": "markdown",
      "source": [
        "##Grafica"
      ],
      "metadata": {
        "id": "9s7CKwhCzmxb"
      }
    },
    {
      "cell_type": "code",
      "source": [
        "# GRAFICA\n",
        "# Puntos para graficar cada tramo\n",
        "xtraza = numpy.array([])\n",
        "ytraza = numpy.array([])\n",
        "tramo = 1\n",
        "while not(tramo>=n):\n",
        "    a = xi[tramo-1]\n",
        "    b = xi[tramo]\n",
        "    xtramo = numpy.linspace(a,b,muestras)\n",
        "    \n",
        "    # evalua polinomio del tramo\n",
        "    pxtramo = px_tabla[tramo-1]\n",
        "    pxt = sym.lambdify(\"x\",pxtramo)\n",
        "    ytramo = pxt(xtramo)\n",
        "\n",
        "    # vectores de trazador en x,y\n",
        "    xtraza = numpy.concatenate((xtraza,xtramo))\n",
        "    ytraza = numpy.concatenate((ytraza,ytramo))\n",
        "    tramo = tramo + 1\n",
        "\n",
        "# Gráfica\n",
        "plt.plot(xi,fi,\"o\")\n",
        "plt.plot(xtraza,ytraza)\n",
        "\n",
        "plt.show()"
      ],
      "metadata": {
        "colab": {
          "base_uri": "https://localhost:8080/",
          "height": 430
        },
        "outputId": "e5d7f924-3efd-4193-865d-012ce42ff575",
        "id": "HDG2-8p3zmxb"
      },
      "execution_count": 44,
      "outputs": [
        {
          "output_type": "display_data",
          "data": {
            "text/plain": [
              "<Figure size 640x480 with 1 Axes>"
            ],
            "image/png": "[encoded data removed]"
          },
          "metadata": {}
        }
      ]
    }
  ]
}