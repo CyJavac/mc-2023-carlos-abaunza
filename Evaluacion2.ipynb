{
  "nbformat": 4,
  "nbformat_minor": 0,
  "metadata": {
    "colab": {
      "provenance": [],
      "collapsed_sections": [
        "w-t3d9hXqhk3"
      ]
    },
    "kernelspec": {
      "name": "python3",
      "display_name": "Python 3"
    },
    "language_info": {
      "name": "python"
    }
  },
  "cells": [
    {
      "cell_type": "markdown",
      "source": [
        "#Punto 1"
      ],
      "metadata": {
        "id": "w-t3d9hXqhk3"
      }
    },
    {
      "cell_type": "code",
      "source": [
        "A=[]\n",
        "B=[]\n",
        "c=[]\n",
        "d=[]\n",
        "na=int(input(\"Ingrese número de columnas en A: \"))\n",
        "ma=int(input(\"Ingrese número de filas en A: \"))\n",
        "print(\"\")\n",
        "nb=int(input(\"Ingrese número de columnas en B: \"))\n",
        "mb=int(input(\"Ingrese número de filas en B: \"))"
      ],
      "metadata": {
        "colab": {
          "base_uri": "https://localhost:8080/"
        },
        "id": "LwW1PWJRqqWH",
        "outputId": "11fb1ba2-1c05-4de7-de81-d5d5d1e731aa"
      },
      "execution_count": 37,
      "outputs": [
        {
          "name": "stdout",
          "output_type": "stream",
          "text": [
            "Ingrese número de columnas en A: 3\n",
            "Ingrese número de filas en A: 3\n",
            "\n",
            "Ingrese número de columnas en B: 2\n",
            "Ingrese número de filas en B: 3\n"
          ]
        }
      ]
    },
    {
      "cell_type": "code",
      "source": [
        "BXA=0\n",
        "total=0\n",
        "\n",
        "for i in range(ma):\n",
        "    fila = []\n",
        "    for j in range(na):\n",
        "        valor = int(input(f\"Ingrese el valor de la posición ({i},{j}) de la matriz A: \"))\n",
        "        fila.append(valor)\n",
        "    A.append(fila)\n",
        "\n",
        "print(\"Matriz A:\")\n",
        "for fila in A:\n",
        "    print(fila)\n",
        "\n",
        "\n",
        "print(\"\")\n",
        "\n",
        "for i in range(mb):\n",
        "    fila = []\n",
        "    for j in range(nb):\n",
        "        valor = int(input(f\"Ingrese el valor de la posición ({i},{j}) de la matriz B: \"))\n",
        "        fila.append(valor)\n",
        "    B.append(fila)\n",
        "\n",
        "print(\"Matriz B:\")\n",
        "for fila in B:\n",
        "    print(fila)\n",
        "\n",
        "\n",
        "print(\"\")\n",
        "\n",
        "\n",
        "#----------  A X B\n",
        "\n",
        "if ma==nb:\n",
        "  for i in range(ma):\n",
        "    for j in range(na):\n",
        "        valor = int((A[i][j])*B[i][j])\n",
        "        total=total+valor\n",
        "  print(\"A X B = \",total)\n",
        "\n",
        "else:\n",
        "  print(\"A X B = No se puede realizar\")\n",
        "\n",
        "BXA=0\n",
        "total=0"
      ],
      "metadata": {
        "colab": {
          "base_uri": "https://localhost:8080/"
        },
        "id": "lKr11bbHqhL-",
        "outputId": "19279271-fc14-436f-eedd-71d60bdd5ea9"
      },
      "execution_count": 38,
      "outputs": [
        {
          "output_type": "stream",
          "name": "stdout",
          "text": [
            "Ingrese el valor de la posición (0,0) de la matriz A: 2\n",
            "Ingrese el valor de la posición (0,1) de la matriz A: 1\n",
            "Ingrese el valor de la posición (0,2) de la matriz A: 0\n",
            "Ingrese el valor de la posición (1,0) de la matriz A: 1\n",
            "Ingrese el valor de la posición (1,1) de la matriz A: 3\n",
            "Ingrese el valor de la posición (1,2) de la matriz A: -2\n",
            "Ingrese el valor de la posición (2,0) de la matriz A: 0\n",
            "Ingrese el valor de la posición (2,1) de la matriz A: 4\n",
            "Ingrese el valor de la posición (2,2) de la matriz A: -1\n",
            "Matriz A:\n",
            "[2, 1, 0]\n",
            "[1, 3, -2]\n",
            "[0, 4, -1]\n",
            "\n",
            "Ingrese el valor de la posición (0,0) de la matriz B: 3\n",
            "Ingrese el valor de la posición (0,1) de la matriz B: 2\n",
            "Ingrese el valor de la posición (1,0) de la matriz B: 0\n",
            "Ingrese el valor de la posición (1,1) de la matriz B: -1\n",
            "Ingrese el valor de la posición (2,0) de la matriz B: 1\n",
            "Ingrese el valor de la posición (2,1) de la matriz B: 0\n",
            "Matriz B:\n",
            "[3, 2]\n",
            "[0, -1]\n",
            "[1, 0]\n",
            "\n",
            "A X B = No se puede realizar\n"
          ]
        }
      ]
    },
    {
      "cell_type": "markdown",
      "source": [
        "#Punto 2"
      ],
      "metadata": {
        "id": "EpZ-KdlDryf8"
      }
    },
    {
      "cell_type": "code",
      "source": [
        "x=[1  ,2,3  ,4  ,5  ,6  ,7  ,8]\n",
        "y=[1.8,2,2.2,2.6,2.9,3.3,3.7,4.1]"
      ],
      "metadata": {
        "id": "o3rVIfjf1UxH"
      },
      "execution_count": 41,
      "outputs": []
    },
    {
      "cell_type": "markdown",
      "source": [
        "##Lineal"
      ],
      "metadata": {
        "id": "awKNhG0TsiTV"
      }
    },
    {
      "cell_type": "code",
      "execution_count": 43,
      "metadata": {
        "colab": {
          "base_uri": "https://localhost:8080/"
        },
        "id": "l6_tVFoZmevX",
        "outputId": "6e457997-cb45-4993-ac60-7cc1815c3645"
      },
      "outputs": [
        {
          "output_type": "stream",
          "name": "stdout",
          "text": [
            "n= 8\n",
            "Sumatoria x: 36\n",
            "Sumatoria y: 22.6\n",
            "Sumatoria xy: 115.8\n",
            "Sumatoria xx: 204\n",
            "Promedio x: 4.5\n",
            "Promedio y: 2.825\n",
            "a1= 0.3357142857142856\n",
            "a0= 1.3142857142857152\n",
            "\n",
            "y= 0.3357142857142856 x + 1.3142857142857152\n"
          ]
        }
      ],
      "source": [
        "\n",
        "xy=[]\n",
        "xx=[]\n",
        "n=len(x)\n",
        "\n",
        "#Sumatoria\n",
        "sx=0\n",
        "sy=0\n",
        "sxy=0\n",
        "sxx=0\n",
        "\n",
        "for i in range(n):\n",
        "  sx=sx+x[i]\n",
        "  sy=sy+y[i]\n",
        "\n",
        "  xy.append(x[i]*y[i])\n",
        "  xx.append(x[i]**2)\n",
        "\n",
        "  sxy=sxy+xy[i]\n",
        "  sxx=sxx+xx[i]\n",
        "\n",
        "print(\"n=\",n)\n",
        "print(\"Sumatoria x:\",sx)\n",
        "print(\"Sumatoria y:\",sy)\n",
        "print(\"Sumatoria xy:\",sxy)\n",
        "print(\"Sumatoria xx:\",sxx)\n",
        "\n",
        "#Promedio\n",
        "px=sx/n\n",
        "py=sy/n\n",
        "\n",
        "print(\"Promedio x:\",px)\n",
        "print(\"Promedio y:\",py)\n",
        "\n",
        "\n",
        "a1=(n*sxy-sx*sy)/(n*sxx-(sx**2))\n",
        "a0=py-a1*px\n",
        "\n",
        "print(\"a1=\",a1)\n",
        "print(\"a0=\",a0)\n",
        "print(\"\")\n",
        "print(\"y=\",a1,\"x\",\"+\",a0,)\n"
      ]
    },
    {
      "cell_type": "code",
      "source": [
        "from matplotlib import pyplot\n",
        "\n",
        "#Función\n",
        "def fxl(x,a1,a0):\n",
        "    return a1*x + a0\n",
        "# Valores de X que toma el gráfico.\n",
        "rango = range(-10, 15)\n",
        "\n",
        "#Grafica\n",
        "pyplot.plot(x,y, \"o\")\n",
        "pyplot.plot(rango, [fxl(i,a1,a0) for i in rango])\n",
        "\n",
        "#Color de los ejes.\n",
        "pyplot.axhline(0, color=\"black\")\n",
        "pyplot.axvline(0, color=\"black\")\n",
        "\n",
        "#Limites de los ejes\n",
        "pyplot.xlim(-3, 11)\n",
        "pyplot.ylim(-1, 8)\n",
        "\n",
        "pyplot.savefig(\"output.png\")\n",
        "\n",
        "pyplot.show()\n",
        "     "
      ],
      "metadata": {
        "colab": {
          "base_uri": "https://localhost:8080/",
          "height": 435
        },
        "id": "lH5cjdYbscyE",
        "outputId": "dc0e2801-32ff-4107-bba4-f16fbd25a5d1"
      },
      "execution_count": 22,
      "outputs": [
        {
          "output_type": "display_data",
          "data": {
            "text/plain": [
              "<Figure size 640x480 with 1 Axes>"
            ],
            "image/png": "[encoded data removed]"
          },
          "metadata": {}
        }
      ]
    },
    {
      "cell_type": "markdown",
      "source": [
        "###Grafica en Excel:\n",
        "\n",
        "![image.png](data:image/png;base64,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)"
      ],
      "metadata": {
        "id": "fGNtdSnZ1-tP"
      }
    },
    {
      "cell_type": "markdown",
      "source": [
        "##Polinomio grado 2"
      ],
      "metadata": {
        "id": "Ctfv69hYtDCu"
      }
    },
    {
      "cell_type": "code",
      "source": [
        "import numpy\n",
        "xx=[]\n",
        "xy=[]\n",
        "x3=[]\n",
        "x4=[]\n",
        "xxy=[]\n",
        "st=[]\n",
        "sr=[]\n",
        "\n",
        "\n",
        "\n",
        "N=len(x)\n",
        "\n",
        "#Sumatoria\n",
        "sx=0\n",
        "sy=0\n",
        "sxx=0\n",
        "sxy=0\n",
        "sx3=0\n",
        "sx4=0\n",
        "sxxy=0\n",
        "St=0\n",
        "Sr=0\n",
        "\n",
        "\n",
        "\n",
        "for i in range(N):\n",
        "  sx=sx+x[i]\n",
        "  sy=sy+y[i]\n",
        "\n",
        "\n",
        "  xx.append(x[i]**2)\n",
        "  xy.append(x[i]*y[i])\n",
        "  x3.append(x[i]**3)\n",
        "  x4.append(x[i]**4)\n",
        "  xxy.append(xx[i]*y[i])\n",
        "\n",
        "  sxy=sxy+xy[i]\n",
        "  sxx=sxx+xx[i]\n",
        "  sx3=sx3+x3[i]\n",
        "  sx4=sx4+x4[i]\n",
        "  sxxy=sxxy+xxy[i]\n",
        "\n",
        "\n",
        "\n",
        "#Promedio\n",
        "px=sx/N\n",
        "py=sy/N\n"
      ],
      "metadata": {
        "id": "JmUPA_mvvP5b"
      },
      "execution_count": 44,
      "outputs": []
    },
    {
      "cell_type": "code",
      "source": [
        "A = numpy.array([[N,sx,sxx],\n",
        "              [sx,sxx,sx3],\n",
        "              [sxx,sx3,sx4]])\n",
        "\n",
        "B = numpy.array([[sy],\n",
        "              [sxy],\n",
        "              [sxxy]])\n",
        "\n",
        "# PROCEDIMIENTO\n",
        "casicero = 1e-15 # Considerar como 0\n",
        "\n",
        "# Evitar truncamiento en operaciones\n",
        "A = numpy.array(A,dtype=float) \n",
        "\n",
        "# Matriz aumentada\n",
        "AB = numpy.concatenate((A,B),axis=1)\n",
        "AB0 = numpy.copy(AB)\n",
        "\n",
        "# Pivoteo parcial por filas\n",
        "tamano = numpy.shape(AB)\n",
        "n = tamano[0]\n",
        "m = tamano[1]\n",
        "\n",
        "# Para cada fila en AB\n",
        "for i in range(0,n-1,1):\n",
        "    # columna desde diagonal i en adelante\n",
        "    columna = abs(AB[i:,i])\n",
        "    dondemax = numpy.argmax(columna)\n",
        "    \n",
        "    # dondemax no está en diagonal\n",
        "    if (dondemax !=0):\n",
        "        # intercambia filas\n",
        "        temporal = numpy.copy(AB[i,:])\n",
        "        AB[i,:] = AB[dondemax+i,:]\n",
        "        AB[dondemax+i,:] = temporal\n",
        "        \n",
        "AB1 = numpy.copy(AB)\n",
        "\n",
        "# eliminacion hacia adelante\n",
        "for i in range(0,n-1,1):\n",
        "    pivote = AB[i,i]\n",
        "    adelante = i + 1\n",
        "    for k in range(adelante,n,1):\n",
        "        factor = AB[k,i]/pivote\n",
        "        AB[k,:] = AB[k,:] - AB[i,:]*factor\n",
        "AB2 = numpy.copy(AB)\n",
        "\n",
        "# elimina hacia atras\n",
        "ultfila = n-1\n",
        "ultcolumna = m-1\n",
        "for i in range(ultfila,0-1,-1):\n",
        "    pivote = AB[i,i]\n",
        "    atras = i-1 \n",
        "    for k in range(atras,0-1,-1):\n",
        "        factor = AB[k,i]/pivote\n",
        "        AB[k,:] = AB[k,:] - AB[i,:]*factor\n",
        "    # diagonal a unos\n",
        "    AB[i,:] = AB[i,:]/AB[i,i]\n",
        "X = numpy.copy(AB[:,ultcolumna])\n",
        "X = numpy.transpose([X])\n",
        "\n",
        "\n",
        "# SALIDA\n",
        "print('Matriz aumentada:')\n",
        "print(AB0)\n",
        "print('Pivoteo parcial por filas')\n",
        "print(AB1)\n",
        "print('eliminacion hacia adelante')\n",
        "print(AB2)\n",
        "print('eliminación hacia atrás')\n",
        "print(AB)\n",
        "print('solución de X: ')\n",
        "print(X)"
      ],
      "metadata": {
        "colab": {
          "base_uri": "https://localhost:8080/"
        },
        "id": "D6VnsKtjvc4r",
        "outputId": "276aa092-9664-4046-c6ae-774183e94fa2"
      },
      "execution_count": 45,
      "outputs": [
        {
          "output_type": "stream",
          "name": "stdout",
          "text": [
            "Matriz aumentada:\n",
            "[[8.000e+00 3.600e+01 2.040e+02 2.260e+01]\n",
            " [3.600e+01 2.040e+02 1.296e+03 1.158e+02]\n",
            " [2.040e+02 1.296e+03 8.772e+03 7.062e+02]]\n",
            "Pivoteo parcial por filas\n",
            "[[2.040e+02 1.296e+03 8.772e+03 7.062e+02]\n",
            " [3.600e+01 2.040e+02 1.296e+03 1.158e+02]\n",
            " [8.000e+00 3.600e+01 2.040e+02 2.260e+01]]\n",
            "eliminacion hacia adelante\n",
            "[[ 2.04000000e+02  1.29600000e+03  8.77200000e+03  7.06200000e+02]\n",
            " [ 0.00000000e+00 -2.47058824e+01 -2.52000000e+02 -8.82352941e+00]\n",
            " [ 0.00000000e+00  1.77635684e-15  1.12000000e+01  2.00000000e-01]]\n",
            "eliminación hacia atrás\n",
            "[[ 1.00000000e+00  0.00000000e+00  0.00000000e+00  1.58214286e+00]\n",
            " [-0.00000000e+00  1.00000000e+00 -0.00000000e+00  1.75000000e-01]\n",
            " [ 0.00000000e+00  1.58603289e-16  1.00000000e+00  1.78571429e-02]]\n",
            "solución de X: \n",
            "[[1.58214286]\n",
            " [0.175     ]\n",
            " [0.01785714]]\n"
          ]
        }
      ]
    },
    {
      "cell_type": "code",
      "source": [
        "print(\"n =\",N)\n",
        "print(\"\")\n",
        "print(\"Sumatoria x:\",sx)\n",
        "print(\"Sumatoria y:\",sy)\n",
        "print(\"Sumatoria xy:\",sxy)\n",
        "print(\"Sumatoria xx:\",sxx)\n",
        "print(\"Sumatoria x3:\",sx3)\n",
        "print(\"Sumatoria x4:\",sx4)\n",
        "print(\"Sumatoria xxy:\",sxxy)\n",
        "print(\"\")\n",
        "\n",
        "\n",
        "print(\"Promedio x:\",px)\n",
        "print(\"Promedio y:\",py)\n",
        "print(\"\")\n",
        "\n",
        "a0=X[0]\n",
        "a1=X[1]\n",
        "a2=X[2]\n",
        "\n",
        "\n",
        "for i in range(N):\n",
        "  st.append((y[i]-py)**2)\n",
        "  sr.append((y[i]-a0-a1*x[i]-a2*xx[i])**2)\n",
        "\n",
        "  St=St+st[i]\n",
        "  Sr=Sr+sr[i]\n",
        "\n",
        "\n",
        "#Raices\n",
        "Sy=numpy.sqrt(St/(N-1))\n",
        "Syx=numpy.sqrt(Sr/(N-2))\n",
        "r=numpy.sqrt(((St-Sr)/St))*100\n",
        "\n",
        "print(\"a0=\",a0)\n",
        "print(\"a1=\",a1)\n",
        "print(\"a2=\",a2)\n",
        "\n",
        "print(\"\")\n",
        "print(\"St=\",St)\n",
        "print(\"Sr=\",Sr)\n",
        "\n",
        "print(\"Sy=\",Sy)\n",
        "print(\"Sy/x=\",Syx)\n",
        "print(\"r=\",r,\"%\")\n",
        "\n",
        "\n",
        "print(\"\")\n",
        "print(\"y=\",a0,\"+\",a1,\"x\",\"+\",a2,\"x^2\")\n"
      ],
      "metadata": {
        "colab": {
          "base_uri": "https://localhost:8080/"
        },
        "id": "XlhPhobpvNA9",
        "outputId": "e9aa2876-47ae-4fa0-8d04-481d7b78e3d2"
      },
      "execution_count": 46,
      "outputs": [
        {
          "output_type": "stream",
          "name": "stdout",
          "text": [
            "n = 8\n",
            "\n",
            "Sumatoria x: 36\n",
            "Sumatoria y: 22.6\n",
            "Sumatoria xy: 115.8\n",
            "Sumatoria xx: 204\n",
            "Sumatoria x3: 1296\n",
            "Sumatoria x4: 8772\n",
            "Sumatoria xxy: 706.2\n",
            "\n",
            "Promedio x: 4.5\n",
            "Promedio y: 2.825\n",
            "\n",
            "a0= [1.58214286]\n",
            "a1= [0.175]\n",
            "a2= [0.01785714]\n",
            "\n",
            "St= 4.794999999999998\n",
            "Sr= [0.00785714]\n",
            "Sy= 0.8276472678623422\n",
            "Sy/x= [0.03618734]\n",
            "r= [99.91803583] %\n",
            "\n",
            "y= [1.58214286] + [0.175] x + [0.01785714] x^2\n"
          ]
        }
      ]
    },
    {
      "cell_type": "code",
      "source": [
        "from matplotlib import pyplot\n",
        "\n",
        "#Función\n",
        "def fx(x,a0,a1,a2):\n",
        "    return a0 + a1*x + a2*(x**2)\n",
        "# Valores de X que toma el gráfico.\n",
        "rango = range(-10, 15)\n",
        "\n",
        "#Grafica\n",
        "pyplot.plot(x,y, \"o\")\n",
        "pyplot.plot(rango, [fx(i,a0,a1,a2) for i in rango])\n",
        "\n",
        "#Color de los ejes.\n",
        "pyplot.axhline(0, color=\"black\")\n",
        "pyplot.axvline(0, color=\"black\")\n",
        "\n",
        "#Limites de los ejes\n",
        "pyplot.xlim(-3, 10)\n",
        "pyplot.ylim(0, 15)\n",
        "\n",
        "pyplot.savefig(\"output.png\")\n",
        "\n",
        "pyplot.show()"
      ],
      "metadata": {
        "colab": {
          "base_uri": "https://localhost:8080/",
          "height": 430
        },
        "id": "RNsVPBB7vIub",
        "outputId": "95356306-b8fc-42c8-d00e-bc58d8906c15"
      },
      "execution_count": 47,
      "outputs": [
        {
          "output_type": "display_data",
          "data": {
            "text/plain": [
              "<Figure size 640x480 with 1 Axes>"
            ],
            "image/png": "[encoded data removed]"
          },
          "metadata": {}
        }
      ]
    },
    {
      "cell_type": "markdown",
      "source": [
        "###Grafica en Excel:\n",
        "\n",
        "![image.png](data:image/png;base64,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)"
      ],
      "metadata": {
        "id": "80Vr_aPt2KWC"
      }
    },
    {
      "cell_type": "markdown",
      "source": [
        "##Respuesta: $R^2$ de el polinomio de grado 2 es más cercano a 1, por lo que es la que tiene una mejor aproximación."
      ],
      "metadata": {
        "id": "VXiYDM2Y2SPM"
      }
    },
    {
      "cell_type": "markdown",
      "source": [
        "#Punto 3"
      ],
      "metadata": {
        "id": "sLvFDLQ5r0bM"
      }
    },
    {
      "cell_type": "code",
      "source": [
        "import numpy\n",
        "import sympy as sym\n",
        "import matplotlib.pyplot as plt\n",
        "\n",
        "def traza3natural(xi,yi):\n",
        "    n = len(xi)\n",
        "    \n",
        "    # Valores h\n",
        "    h = numpy.zeros(n-1, dtype = float)\n",
        "    for j in range(0,n-1,1):\n",
        "        h[j] = xi[j+1] - xi[j]\n",
        "    \n",
        "    # Sistema de ecuaciones\n",
        "    A = numpy.zeros(shape=(n-2,n-2), dtype = float)\n",
        "    B = numpy.zeros(n-2, dtype = float)\n",
        "    S = numpy.zeros(n, dtype = float)\n",
        "\n",
        "    A[0,0] = 2*(h[0]+h[1])\n",
        "    A[0,1] = h[1]\n",
        "    B[0] = 6*((yi[2]-yi[1])/h[1] - (yi[1]-yi[0])/h[0])\n",
        "\n",
        "    for i in range(1,n-3,1):\n",
        "        A[i,i-1] = h[i]\n",
        "        A[i,i] = 2*(h[i]+h[i+1])\n",
        "        A[i,i+1] = h[i+1]\n",
        "        factor21 = (yi[i+2]-yi[i+1])/h[i+1]\n",
        "        factor10 = (yi[i+1]-yi[i])/h[i]\n",
        "        B[i] = 6*(factor21 - factor10)\n",
        "        \n",
        "    A[n-3,n-4] = h[n-3]\n",
        "    A[n-3,n-3] = 2*(h[n-3]+h[n-2])\n",
        "    factor12 = (yi[n-1]-yi[n-2])/h[n-2]\n",
        "    factor23 = (yi[n-2]-yi[n-3])/h[n-3]\n",
        "    B[n-3] = 6*(factor12 - factor23)\n",
        "    \n",
        "    # Resolver sistema de ecuaciones S\n",
        "    r = numpy.linalg.solve(A,B)\n",
        "    for j in range(1,n-1,1):\n",
        "        S[j] = r[j-1]\n",
        "    S[0] = 0\n",
        "    S[n-1] = 0\n",
        "    \n",
        "    # Coeficientes\n",
        "    a = numpy.zeros(n-1, dtype = float)\n",
        "    b = numpy.zeros(n-1, dtype = float)\n",
        "    c = numpy.zeros(n-1, dtype = float)\n",
        "    d = numpy.zeros(n-1, dtype = float)\n",
        "    for j in range(0,n-1,1):\n",
        "        a[j] = (S[j+1]-S[j])/(6*h[j])\n",
        "        b[j] = S[j]/2\n",
        "        factor10 = (yi[j+1]-yi[j])/h[j]\n",
        "        c[j] = factor10 - (2*h[j]*S[j]+h[j]*S[j+1])/6\n",
        "        d[j] = yi[j]\n",
        "    \n",
        "    # Polinomio trazador\n",
        "    x = sym.Symbol(\"x\")\n",
        "    px_tabla = []\n",
        "    for j in range(0,n-1,1):\n",
        "\n",
        "        pxtramo = a[j]*(x-xi[j])**3 + b[j]*(x-xi[j])**2\n",
        "        pxtramo = pxtramo + c[j]*(x-xi[j])+ d[j]\n",
        "        \n",
        "        pxtramo = pxtramo.expand()\n",
        "        px_tabla.append(pxtramo)\n",
        "    \n",
        "    return(px_tabla)"
      ],
      "metadata": {
        "id": "iT_Mm6qowhos"
      },
      "execution_count": 28,
      "outputs": []
    },
    {
      "cell_type": "code",
      "source": [
        "xi = numpy.array([1 , 2 , 3 , 4 , 5])\n",
        "fi = numpy.array([1.8,2 ,2.5,2.8,3.5])\n",
        "muestras = 10 # entre cada par de puntos"
      ],
      "metadata": {
        "id": "it4lTiRVrz7c"
      },
      "execution_count": 31,
      "outputs": []
    },
    {
      "cell_type": "code",
      "source": [
        "# Tabla de polinomios por tramos\n",
        "n = len(xi)\n",
        "px_tabla = traza3natural(xi,fi)\n",
        "\n",
        "# SALIDA\n",
        "print(\"Polinomios por tramos: \")\n",
        "for tramo in range(1,n,1):\n",
        "    print(\" x = [\"+str(xi[tramo-1])\n",
        "          +\",\"+str(xi[tramo])+\"]\")\n",
        "    print(str(px_tabla[tramo-1]))"
      ],
      "metadata": {
        "colab": {
          "base_uri": "https://localhost:8080/"
        },
        "id": "Ix7uzQkbwUgz",
        "outputId": "1e81ce28-3b0e-45f6-cf22-73730ab660be"
      },
      "execution_count": 32,
      "outputs": [
        {
          "output_type": "stream",
          "name": "stdout",
          "text": [
            "Polinomios por tramos: \n",
            " x = [1,2]\n",
            "0.101785714285714*x**3 - 0.305357142857143*x**2 + 0.403571428571429*x + 1.6\n",
            " x = [2,3]\n",
            "-0.208928571428572*x**3 + 1.55892857142857*x**2 - 3.325*x + 4.08571428571429\n",
            " x = [3,4]\n",
            "0.233928571428572*x**3 - 2.42678571428572*x**2 + 8.63214285714286*x - 7.87142857142858\n",
            " x = [4,5]\n",
            "-0.126785714285714*x**3 + 1.90178571428572*x**2 - 8.68214285714286*x + 15.2142857142857\n"
          ]
        }
      ]
    },
    {
      "cell_type": "code",
      "source": [
        "xn=3.2\n",
        "\n",
        "print(\"f1(3.2)= \",(-0.287179487179487*xn**3 + 2.28717948717949*xn + 3.0))\n",
        "\n",
        "print(\"f2(3.2)= \",(0.435897435897436*xn**3 - 2.16923076923077*xn**2 + 4.45641025641026*xn + 2.27692307692308))\n",
        "\n",
        "print(\"f3(3,2)= \",(-2.45641025641026*xn**3 + 15.1846153846154*xn**2 - 30.2512820512821*xn + 25.4153846153846))\n",
        "\n",
        "print(\"f4(3,2)= \",(5.38974358974359*xn**3 - 55.4307692307692*xn**2 + 181.594871794872*xn - 186.430769230769))\n",
        "\n",
        "print(\"f5(3,2)= \",(-2.1025641025641*xn**3 + 34.4769230769231*xn**2 - 178.035897435897*xn + 293.076923076923))\n",
        "\n",
        "print(\"f6(3,2)= \",(-0.97948717948718*xn**3 + 17.6307692307692*xn**2 - 93.8051282051282*xn + 152.692307692308))"
      ],
      "metadata": {
        "colab": {
          "base_uri": "https://localhost:8080/"
        },
        "id": "gNncOKk3wZD7",
        "outputId": "9ab4b21b-06b6-4501-d701-22db04a55712"
      },
      "execution_count": 34,
      "outputs": [
        {
          "output_type": "stream",
          "name": "stdout",
          "text": [
            "f1(3.2)=  0.9086769230769374\n",
            "f2(3.2)=  8.60800000000001\n",
            "f3(3,2)=  3.610092307692174\n",
            "f4(3,2)=  3.672861538462655\n",
            "f5(3,2)=  7.508923076924702\n",
            "f6(3,2)=  0.9591384615384584\n"
          ]
        }
      ]
    },
    {
      "cell_type": "code",
      "source": [
        "# GRAFICA\n",
        "# Puntos para graficar cada tramo\n",
        "xtraza = numpy.array([])\n",
        "ytraza = numpy.array([])\n",
        "tramo = 1\n",
        "while not(tramo>=n):\n",
        "    a = xi[tramo-1]\n",
        "    b = xi[tramo]\n",
        "    xtramo = numpy.linspace(a,b,muestras)\n",
        "    \n",
        "    # evalua polinomio del tramo\n",
        "    pxtramo = px_tabla[tramo-1]\n",
        "    pxt = sym.lambdify(\"x\",pxtramo)\n",
        "    ytramo = pxt(xtramo)\n",
        "\n",
        "    # vectores de trazador en x,y\n",
        "    xtraza = numpy.concatenate((xtraza,xtramo))\n",
        "    ytraza = numpy.concatenate((ytraza,ytramo))\n",
        "    tramo = tramo + 1\n",
        "\n",
        "# Gráfica\n",
        "plt.plot(xi,fi,\"o\")\n",
        "plt.plot(xtraza,ytraza)\n",
        "\n",
        "plt.show()"
      ],
      "metadata": {
        "colab": {
          "base_uri": "https://localhost:8080/",
          "height": 430
        },
        "id": "n47ukBIMwd7L",
        "outputId": "1a43d59f-149a-42f7-8986-abc2a54c2ba2"
      },
      "execution_count": 35,
      "outputs": [
        {
          "output_type": "display_data",
          "data": {
            "text/plain": [
              "<Figure size 640x480 with 1 Axes>"
            ],
            "image/png": "[encoded data removed]"
          },
          "metadata": {}
        }
      ]
    },
    {
      "cell_type": "markdown",
      "source": [
        "#Punto 4:\n",
        "A = {2, 15, 20, 16, 8, 9, 22, 5, 4, 19, 6, 0, 12, 3, 14, 18, 17, 7, 11}\n",
        "\n",
        "![image.png](data:image/png;base64,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)"
      ],
      "metadata": {
        "id": "pSeoJCWkpddK"
      }
    }
  ]
}